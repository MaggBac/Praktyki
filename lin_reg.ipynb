{
 "cells": [
  {
   "cell_type": "markdown",
   "metadata": {},
   "source": [
    "Funkcja regresji liniowej"
   ]
  },
  {
   "cell_type": "markdown",
   "metadata": {},
   "source": [
    "Z modułu math pobierana jest pakiet sqrt,który zwraca ułamek kwadratowy danej liczby.\n",
    "reader -> zwraca obiekt writer, który będzie iterował po liniach w podanym pliku csv. \n",
    "Każdy wiersz odczytany z pliku csv jest zwracany jako lista ciągów."
   ]
  },
  {
   "cell_type": "code",
   "execution_count": 11,
   "metadata": {
    "scrolled": false
   },
   "outputs": [
    {
     "name": "stdout",
     "output_type": "stream",
     "text": [
      "[375.3173278822568, 72.02206541291909, 429.84231888798035, 143.58611610793136, 201.5189190515127, 85.65331316435, 54.983005723630455, 160.62517579721998, 41.35175797219955]\n",
      "x stats: mean=48.888888888888886, variance=13588.888888888889\n",
      "y stats: mean=173.8777777777778, variance=165109.31555555554\n",
      "Covariance: 46308.37777777777\n",
      "Coefficients: b0=7.27363859362228, b1=3.4078119378577267\n",
      "RMSE: 28.478204027366786\n"
     ]
    }
   ],
   "source": [
    "from csv import reader\n",
    "from math import sqrt\n",
    "def load_csv(filename):\n",
    "    dataset = list()\n",
    "    with open(filename, 'r') as file:\n",
    "        csv_reader = reader(file)\n",
    "        for row in csv_reader:\n",
    "            if not row:\n",
    "                continue\n",
    "            dataset.append(row)\n",
    "    return dataset\n",
    "\n",
    "#konwertuje dane na liczby\n",
    "def str_column_to_float(dataset, column):\n",
    "    for row in dataset:\n",
    "        row[column] = float(row[column].strip())\n",
    "def mean(values):\n",
    "    return sum(values) / float(len(values))\n",
    " \n",
    "def variance(values, mean):\n",
    "    return sum([(x-mean)**2 for x in values])\n",
    "\n",
    "def covariance(x, mean_x, y, mean_y):\n",
    "    covar = 0.0\n",
    "    for i in range(len(x)):\n",
    "        covar += (x[i] - mean_x) * (y[i] - mean_y)\n",
    "    return covar\n",
    "\n",
    "def coefficients(dataset):\n",
    "    x = [row[0] for row in dataset]\n",
    "    y = [row[1] for row in dataset]\n",
    "    x_mean, y_mean = mean(x), mean(y)\n",
    "    b1 = covariance(x, x_mean, y, y_mean) / variance(x, x_mean)\n",
    "    b0 = y_mean - b1 * x_mean\n",
    "    return [b0, b1]\n",
    "\n",
    "# błąd sredniokwadratowy\n",
    "def rmse_metric(actual, predicted):\n",
    "    sum_error = 0.0\n",
    "    for i in range(len(actual)):\n",
    "        prediction_error = predicted[i] - actual[i]\n",
    "        sum_error += (prediction_error ** 2)\n",
    "    mean_error = sum_error / float(len(actual))\n",
    "    return sqrt(mean_error)\n",
    " \n",
    "\n",
    "def evaluate_algorithm(dataset, algorithm):\n",
    "    test_set = list()\n",
    "    for row in dataset:\n",
    "        row_copy = list(row)\n",
    "        row_copy[-1] = None\n",
    "        test_set.append(row_copy)\n",
    "    predicted = algorithm(dataset, test_set)\n",
    "    print(predicted)\n",
    "    actual = [row[-1] for row in dataset]\n",
    "    rmse = rmse_metric(actual, predicted)\n",
    "    return rmse\n",
    "\n",
    "def simple_linear_regression(train, test):\n",
    "    predictions = list()\n",
    "    b0, b1 = coefficients(train)\n",
    "    for row in test:\n",
    "        yhat = b0 + b1 * row[0]\n",
    "        predictions.append(yhat)\n",
    "    return predictions\n",
    "\n",
    "\n",
    "filename='insurance.csv'\n",
    "dataset = load_csv(filename)\n",
    "for i in range(len(dataset[0])):\n",
    "    str_column_to_float(dataset, i)\n",
    "    \n",
    "x = [row[0] for row in dataset]\n",
    "y = [row[1] for row in dataset]\n",
    "mean_x, mean_y = mean(x), mean(y)\n",
    "var_x, var_y = variance(x, mean_x), variance(y, mean_y)\n",
    "covar = covariance(x, mean_x, y, mean_y)\n",
    "b0, b1 = coefficients(dataset)\n",
    "rmse = evaluate_algorithm(dataset, simple_linear_regression)\n",
    "print(f'x stats: mean={mean_x}, variance={var_x}')\n",
    "print(f'y stats: mean={mean_y}, variance={var_y}')\n",
    "print('Covariance:',covar)\n",
    "print(f'Coefficients: b0={b0}, b1={b1}')\n",
    "print('RMSE:',rmse)"
   ]
  },
  {
   "cell_type": "markdown",
   "metadata": {},
   "source": [
    "Kod z użyciem biblioteki numpy"
   ]
  },
  {
   "cell_type": "code",
   "execution_count": 2,
   "metadata": {},
   "outputs": [
    {
     "name": "stdout",
     "output_type": "stream",
     "text": [
      "b0:7.273638593622252, b1:3.4078119378577267\n",
      "RMSE: 28.478204027366786\n"
     ]
    }
   ],
   "source": [
    "import numpy as np\n",
    "import pandas as pd\n",
    "import matplotlib.pyplot as plt\n",
    "\n",
    "\n",
    "data = pd.read_csv('insurance.csv')\n",
    "\n",
    "X = data['x'].values\n",
    "Y = data['y'].values\n",
    "\n",
    "mean_x = np.mean(X)\n",
    "mean_y = np.mean(Y)\n",
    "\n",
    "m = len(X)\n",
    "\n",
    "numer = 0\n",
    "denom = 0\n",
    "for i in range(m):\n",
    "    numer += (X[i] - mean_x) * (Y[i] - mean_y)\n",
    "    denom += (X[i] - mean_x) ** 2\n",
    "b1 = numer / denom\n",
    "b0 = mean_y - (b1 * mean_x)\n",
    "print(f'b0:{b0}, b1:{b1}')\n",
    "\n",
    "rmse = 0\n",
    "for i in range(m):\n",
    "    y_pred = b0 + b1 * X[i]\n",
    "    rmse += (Y[i] - y_pred) ** 2\n",
    "rmse = np.sqrt(rmse/m)\n",
    "print('RMSE:',rmse)"
   ]
  }
 ],
 "metadata": {
  "kernelspec": {
   "display_name": "Python 3",
   "language": "python",
   "name": "python3"
  },
  "language_info": {
   "codemirror_mode": {
    "name": "ipython",
    "version": 3
   },
   "file_extension": ".py",
   "mimetype": "text/x-python",
   "name": "python",
   "nbconvert_exporter": "python",
   "pygments_lexer": "ipython3",
   "version": "3.8.4"
  }
 },
 "nbformat": 4,
 "nbformat_minor": 4
}
