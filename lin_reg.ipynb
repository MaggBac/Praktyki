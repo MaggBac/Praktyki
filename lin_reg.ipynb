{
 "cells": [
  {
   "cell_type": "markdown",
   "metadata": {},
   "source": [
    "Funkcja regresji liniowej."
   ]
  },
  {
   "cell_type": "code",
   "execution_count": 3,
   "metadata": {
    "scrolled": true
   },
   "outputs": [
    {
     "name": "stdout",
     "output_type": "stream",
     "text": [
      "b0:350431975154361.1, b1:9099230808282.246\n",
      "Zaokrąglony wynik b0: 350431975154361.0\n",
      "Zaokrąglony wynik b0: 9099230808282.0\n",
      "Zaokrąglony wyniku do dwóch miejsc po przecinku: 350431975154361.12\n",
      "Zaokrąglony wyniku do dwóch miejsc po przecinku: 9099230808282.25\n",
      "Korzystanie z moduły decimal b0: 350431975154361.125\n",
      "Korzystanie z moduły decimal b1: 9099230808282.24609375\n",
      "Z użyciem mpmath(mpf) b0: 350431975154361.125\n",
      "Z użyciem mpmath(mpc) b0: (350431975154361.125 + 0.0j)\n",
      "Z użyciem mpmath(mpf) b1: 9099230808282.24609375\n",
      "Z użyciem mpmath(mpc) b1: (9099230808282.24609375 + 0.0j)\n",
      "Z użyciem mpfr dla b0: 350431975154361.125\n",
      "Z użyciem mpfr dla b1: 9099230808282.24609375\n",
      "Z użyciem mpfr ze zmianą precyzji dla b0: 350431975154361.125\n",
      "Z użyciem mpfr ze zmianą precyzji dla b1: 9099230808282.24609375\n",
      "Z użyciem String Formatting Operator,b0: 350431975154361.125000000000000\n",
      "Z użyciem String Formatting Operator,b1: 9099230808282.246093750000000\n",
      "Z użyciem sympy(smp) b0:  350431975154361.\n",
      "Z użyciem sympy(smp) b1:  9099230808282.25\n",
      "Z użyciem biblioteki numpy(longdouble),b0: 350431975154361.1\n",
      "Z użyciem biblioteki numpy(longdouble),b1: 9099230808282.246\n",
      "Z użyciem biblioteki numpy(double),b0: 350431975154361.1\n",
      "Z użyciem biblioteki numpy(double),b1: 9099230808282.246\n",
      "Z użyciem biblioteki numpy(clongdouble),b0: (350431975154361.1+0j)\n",
      "Z użyciem biblioteki numpy(clongdouble),b1: (9099230808282.246+0j)\n",
      "Z użyciem String Formatting Operator dla b0: 3.504320e+14\n",
      "Z użyciem String Formatting Operator dla b1: 9.099231e+12\n"
     ]
    }
   ],
   "source": [
    "import pandas as pd\n",
    "import numpy as np\n",
    "#from bigfloat import *\n",
    "import sympy as smp\n",
    "\n",
    "data = pd.read_csv('genomes.csv')\n",
    "\n",
    "x = data['size'].values\n",
    "y1 = data['GC'].values\n",
    "\n",
    "y = np.log(y1)\n",
    "\n",
    "def mean(values):\n",
    "    return sum(values) / float(len(values))\n",
    "\n",
    "def variance(values, mean):\n",
    "    return sum([(x-mean)**2 for x in values])\n",
    "\n",
    "mean_X, mean_Y = mean(x), mean(y)\n",
    "var_x, var_y = variance(x, mean_X), variance(y, mean_Y)\n",
    "\n",
    "def covariance(x, mean_x, y, mean_y):\n",
    "    covar = 0.0\n",
    "    for i in range(len(x)):\n",
    "        covar += (x[i] - mean_x)*(y[i] - mean_y)\n",
    "    return covar\n",
    "\n",
    "def coefficients(data,x,y):\n",
    "    mean_x, mean_y = mean(x), mean(y)\n",
    "    b1 = covariance(x, mean_x, y, mean_y) / variance(x, mean_x)\n",
    "    b0 = mean_y - b1 * mean_x\n",
    "    return [b0, b1]\n",
    "\n",
    "z = coefficients(data,x,y)\n",
    "\n",
    "def convert(x):\n",
    "    c=x*(10**14)\n",
    "    return c\n",
    "\n",
    "a = convert(z[0])\n",
    "b = convert(z[1])\n",
    "print(f'b0:{a}, b1:{b}')\n",
    "\n",
    "print('Zaokrąglony wynik b0:',round(a))\n",
    "print('Zaokrąglony wynik b0:',round(b))\n",
    "\n",
    "print('Zaokrąglony wyniku do dwóch miejsc po przecinku:',format(a,\".2f\"))\n",
    "print('Zaokrąglony wyniku do dwóch miejsc po przecinku:',format(b,\".2f\"))\n",
    "\n",
    "\n",
    "from decimal import *\n",
    "print('Korzystanie z moduły decimal b0:',Decimal(a))\n",
    "print('Korzystanie z moduły decimal b1:',Decimal(b))\n",
    "\n",
    "\n",
    "from mpmath import *\n",
    "\n",
    "mp.dps = 50\n",
    "print('Z użyciem mpmath(mpf) b0:',mpf(a))\n",
    "print('Z użyciem mpmath(mpc) b0:',mpc(a))\n",
    "print('Z użyciem mpmath(mpf) b1:',mpf(b))\n",
    "print('Z użyciem mpmath(mpc) b1:',mpc(b))\n",
    "\n",
    "import gmpy2\n",
    "from gmpy2 import mpfr\n",
    "print('Z użyciem mpfr dla b0:',mpfr(a))\n",
    "print('Z użyciem mpfr dla b1:',mpfr(b))\n",
    "\n",
    "gmpy2.get_context().precision=333\n",
    "print('Z użyciem mpfr ze zmianą precyzji dla b0:',mpfr(a))\n",
    "print('Z użyciem mpfr ze zmianą precyzji dla b1:',mpfr(b))\n",
    "\n",
    "print('Z użyciem String Formatting Operator,b0:',format(a, '.15f'))\n",
    "print('Z użyciem String Formatting Operator,b1:',format(b, '.15f'))\n",
    "\n",
    "\n",
    "x=smp.Float(a)\n",
    "x1=smp.Float(b)\n",
    "print('Z użyciem sympy(smp) b0: ',x)\n",
    "print('Z użyciem sympy(smp) b1: ',x1)\n",
    "\n",
    "print('Z użyciem biblioteki numpy(longdouble),b0:',np.longdouble(a))\n",
    "print('Z użyciem biblioteki numpy(longdouble),b1:',np.longdouble(b))\n",
    "print('Z użyciem biblioteki numpy(double),b0:',np.double(a))\n",
    "print('Z użyciem biblioteki numpy(double),b1:',np.double(b))\n",
    "print('Z użyciem biblioteki numpy(clongdouble),b0:',np.clongdouble(a))\n",
    "print('Z użyciem biblioteki numpy(clongdouble),b1:',np.clongdouble(b))\n",
    "\n",
    "print('Z użyciem String Formatting Operator dla b0: %e'%a)\n",
    "print('Z użyciem String Formatting Operator dla b1: %e'%b)"
   ]
  },
  {
   "cell_type": "markdown",
   "metadata": {},
   "source": [
    "Wartość estymatora największa jest dla funkcji mpf z biblioteki mpmath,z użyciem funkcji mpfr oraz decimal,wynosi  dla b0:350431975154361.125 oraz dla b1: 9099230808282.24609375\n",
    "\n",
    "Wartość estymatora najmniejsza jest dla funkcji smp z biblioteki sympy,wynosi dla b0: 350431975154361. oraz dla b1: 9099230808282.25 \n",
    "\n",
    "Różnice pomiędzy wartościami: polegają na zaokrąglaniu liczb,użyte funkcje są bardziej precyzyjne.\n"
   ]
  },
  {
   "cell_type": "markdown",
   "metadata": {},
   "source": [
    "Kod z użyciem biblioteki numpy:"
   ]
  },
  {
   "cell_type": "code",
   "execution_count": 28,
   "metadata": {},
   "outputs": [
    {
     "name": "stdout",
     "output_type": "stream",
     "text": [
      "b0:32.68246972988583, b1:4.252880674352682\n"
     ]
    },
    {
     "data": {
      "text/plain": [
       "\"\\nrmse = 0\\nfor i in range(m):\\n    y_pred = b0 + b1 * X[i]\\n    rmse += (Y[i] - y_pred) ** 2\\nrmse = np.sqrt(rmse/m)\\nprint('RMSE:',rmse)\\n\""
      ]
     },
     "execution_count": 28,
     "metadata": {},
     "output_type": "execute_result"
    }
   ],
   "source": [
    "import numpy as np\n",
    "import pandas as pd\n",
    "\n",
    "\n",
    "data = pd.read_csv('genomes.csv')\n",
    "\n",
    "X = data['size'].values\n",
    "Y = data['GC'].values\n",
    "\n",
    "mean_x = np.mean(X)\n",
    "mean_y = np.mean(Y)\n",
    "\n",
    "m = len(X)\n",
    "\n",
    "numer = 0\n",
    "denom = 0\n",
    "for i in range(m):\n",
    "    numer += (X[i] - mean_x) * (Y[i] - mean_y)\n",
    "    denom += (X[i] - mean_x) ** 2\n",
    "b1 = numer / denom\n",
    "b0 = mean_y - (b1 * mean_x)\n",
    "print(f'b0:{b0}, b1:{b1}')\n",
    "'''\n",
    "rmse = 0\n",
    "for i in range(m):\n",
    "    y_pred = b0 + b1 * X[i]\n",
    "    rmse += (Y[i] - y_pred) ** 2\n",
    "rmse = np.sqrt(rmse/m)\n",
    "print('RMSE:',rmse)\n",
    "'''"
   ]
  }
 ],
 "metadata": {
  "kernelspec": {
   "display_name": "Python 3",
   "language": "python",
   "name": "python3"
  },
  "language_info": {
   "codemirror_mode": {
    "name": "ipython",
    "version": 3
   },
   "file_extension": ".py",
   "mimetype": "text/x-python",
   "name": "python",
   "nbconvert_exporter": "python",
   "pygments_lexer": "ipython3",
   "version": "3.8.3"
  }
 },
 "nbformat": 4,
 "nbformat_minor": 4
}
