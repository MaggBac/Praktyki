{
 "cells": [
  {
   "cell_type": "markdown",
   "metadata": {},
   "source": [
    "Funkcja regresji liniowej."
   ]
  },
  {
   "cell_type": "code",
   "execution_count": 2,
   "metadata": {},
   "outputs": [
    {
     "name": "stdout",
     "output_type": "stream",
     "text": [
      "b0:32.682469729885746, b1:4.252880674352686\n",
      "Zaokrąglony wynik b0: 33.0\n",
      "Zaokrąglony wynik b0: 4.0\n",
      "Zaokrąglony wyniku do dwóch miejsc po przecinku: 32.68\n",
      "Zaokrąglony wyniku do dwóch miejsc po przecinku: 4.25\n",
      "Korzystanie z moduły decimal b0: 32.68246972988574583496301784180104732513427734375\n",
      "Korzystanie z moduły decimal b1: 4.25288067435268590799068988417275249958038330078125\n",
      "Z użyciem mpmath(mpf) b0: 32.68246972988574583496301784180104732513427734375\n",
      "Z użyciem mpmath(mpc) b0: (32.68246972988574583496301784180104732513427734375 + 0.0j)\n",
      "Z użyciem mpmath(mpf) b1: 4.2528806743526859079906898841727524995803833007813\n",
      "Z użyciem mpmath(mpc) b1: (4.2528806743526859079906898841727524995803833007813 + 0.0j)\n",
      "Z użyciem mpfr dla b0: 32.682469729885746\n",
      "Z użyciem mpfr dla b1: 4.2528806743526859\n",
      "Z użyciem mpfr ze zmianą precyzji dla b0: 32.68246972988574583496301784180104732513427734375\n",
      "Z użyciem mpfr ze zmianą precyzji dla b1: 4.25288067435268590799068988417275249958038330078125\n"
     ]
    }
   ],
   "source": [
    "import pandas as pd\n",
    "\n",
    "data = pd.read_csv('genomes.csv')\n",
    "\n",
    "x = data['size'].values\n",
    "y = data['GC'].values\n",
    "\n",
    "def mean(values):\n",
    "    return sum(values) / float(len(values))\n",
    "\n",
    "def variance(values, mean):\n",
    "    return sum([(x-mean)**2 for x in values])\n",
    "\n",
    "mean_X, mean_Y = mean(x), mean(y)\n",
    "var_x, var_y = variance(x, mean_X), variance(y, mean_Y)\n",
    "\n",
    "def covariance(x, mean_x, y, mean_y):\n",
    "    covar = 0.0\n",
    "    for i in range(len(x)):\n",
    "        covar += (x[i] - mean_x)*(y[i] - mean_y)\n",
    "    return covar\n",
    "\n",
    "def coefficients(data,x,y):\n",
    "    mean_x, mean_y = mean(x), mean(y)\n",
    "    b1 = covariance(x, mean_x, y, mean_y) / variance(x, mean_x)\n",
    "    b0 = mean_y - b1 * mean_x\n",
    "    return [b0, b1]\n",
    "\n",
    "z = coefficients(data,x,y)\n",
    "print(f'b0:{z[0]}, b1:{z[1]}')\n",
    "\n",
    "print('Zaokrąglony wynik b0:',round(z[0]))\n",
    "print('Zaokrąglony wynik b0:',round(z[1]))\n",
    "\n",
    "print('Zaokrąglony wyniku do dwóch miejsc po przecinku:',format(z[0],\".2f\"))\n",
    "print('Zaokrąglony wyniku do dwóch miejsc po przecinku:',format(z[1],\".2f\"))\n",
    "\n",
    "\n",
    "from decimal import *\n",
    "print('Korzystanie z moduły decimal b0:',Decimal(z[0]))\n",
    "print('Korzystanie z moduły decimal b1:',Decimal(z[1]))\n",
    "\n",
    "\n",
    "from mpmath import *\n",
    "\n",
    "mp.dps = 50\n",
    "print('Z użyciem mpmath(mpf) b0:',mpf(z[0]))\n",
    "print('Z użyciem mpmath(mpc) b0:',mpc(z[0]))\n",
    "print('Z użyciem mpmath(mpf) b1:',mpf(z[1]))\n",
    "print('Z użyciem mpmath(mpc) b1:',mpc(z[1]))\n",
    "\n",
    "import gmpy2\n",
    "from gmpy2 import mpfr\n",
    "print('Z użyciem mpfr dla b0:',mpfr(z[0]))\n",
    "print('Z użyciem mpfr dla b1:',mpfr(z[1]))\n",
    "\n",
    "gmpy2.get_context().precision=333\n",
    "print('Z użyciem mpfr ze zmianą precyzji dla b0:',mpfr(z[0]))\n",
    "print('Z użyciem mpfr ze zmianą precyzji dla b1:',mpfr(z[1]))"
   ]
  },
  {
   "cell_type": "markdown",
   "metadata": {},
   "source": [
    "Kod z użyciem biblioteki numpy:"
   ]
  },
  {
   "cell_type": "code",
   "execution_count": 28,
   "metadata": {},
   "outputs": [
    {
     "name": "stdout",
     "output_type": "stream",
     "text": [
      "b0:32.68246972988583, b1:4.252880674352682\n"
     ]
    },
    {
     "data": {
      "text/plain": [
       "\"\\nrmse = 0\\nfor i in range(m):\\n    y_pred = b0 + b1 * X[i]\\n    rmse += (Y[i] - y_pred) ** 2\\nrmse = np.sqrt(rmse/m)\\nprint('RMSE:',rmse)\\n\""
      ]
     },
     "execution_count": 28,
     "metadata": {},
     "output_type": "execute_result"
    }
   ],
   "source": [
    "import numpy as np\n",
    "import pandas as pd\n",
    "\n",
    "\n",
    "data = pd.read_csv('genomes.csv')\n",
    "\n",
    "X = data['size'].values\n",
    "Y = data['GC'].values\n",
    "\n",
    "mean_x = np.mean(X)\n",
    "mean_y = np.mean(Y)\n",
    "\n",
    "m = len(X)\n",
    "\n",
    "numer = 0\n",
    "denom = 0\n",
    "for i in range(m):\n",
    "    numer += (X[i] - mean_x) * (Y[i] - mean_y)\n",
    "    denom += (X[i] - mean_x) ** 2\n",
    "b1 = numer / denom\n",
    "b0 = mean_y - (b1 * mean_x)\n",
    "print(f'b0:{b0}, b1:{b1}')\n",
    "'''\n",
    "rmse = 0\n",
    "for i in range(m):\n",
    "    y_pred = b0 + b1 * X[i]\n",
    "    rmse += (Y[i] - y_pred) ** 2\n",
    "rmse = np.sqrt(rmse/m)\n",
    "print('RMSE:',rmse)\n",
    "'''"
   ]
  }
 ],
 "metadata": {
  "kernelspec": {
   "display_name": "Python 3",
   "language": "python",
   "name": "python3"
  },
  "language_info": {
   "codemirror_mode": {
    "name": "ipython",
    "version": 3
   },
   "file_extension": ".py",
   "mimetype": "text/x-python",
   "name": "python",
   "nbconvert_exporter": "python",
   "pygments_lexer": "ipython3",
   "version": "3.8.3"
  }
 },
 "nbformat": 4,
 "nbformat_minor": 4
}
