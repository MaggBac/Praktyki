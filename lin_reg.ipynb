{
 "cells": [
  {
   "cell_type": "markdown",
   "metadata": {},
   "source": [
    "Funkcja regresji liniowej."
   ]
  },
  {
   "cell_type": "code",
   "execution_count": 29,
   "metadata": {},
   "outputs": [
    {
     "name": "stdout",
     "output_type": "stream",
     "text": [
      "b0 : 32.68246972988583, b1: 4.252880674352682\n"
     ]
    }
   ],
   "source": [
    "import pandas as pd\n",
    "\n",
    "data = pd.read_csv('genomes.csv')\n",
    "\n",
    "x = data['size'].values\n",
    "y = data['GC'].values\n",
    "\n",
    "def mean(values):\n",
    "    return sum(values) / float(len(values))\n",
    "\n",
    "def variance(values, mean):\n",
    "    return sum([(x-mean)**2 for x in values])\n",
    "\n",
    "mean_X, mean_Y = mean(x), mean(y)\n",
    "var_x, var_y = variance(x, mean_X), variance(y, mean_Y)\n",
    "\n",
    "def covariance(x, mean_x, y, mean_y):\n",
    "    covar = 0.0\n",
    "    for i in range(len(x)):\n",
    "        covar += (x[i] - mean_x)*(y[i] - mean_y)\n",
    "    return covar\n",
    "\n",
    "def coefficients(data,x,y):\n",
    "    mean_x, mean_y = mean(x), mean(y)\n",
    "    b1 = covariance(x, mean_x, y, mean_y) / variance(x, mean_x)\n",
    "    b0 = mean_y - b1 * mean_x\n",
    "    return [b0, b1]\n",
    "\n",
    "z = coefficients(data,x,y)\n",
    "print(f'b0 : {b0}, b1: {b1}')"
   ]
  },
  {
   "cell_type": "markdown",
   "metadata": {},
   "source": [
    "Kod z użyciem biblioteki numpy:"
   ]
  },
  {
   "cell_type": "code",
   "execution_count": 28,
   "metadata": {},
   "outputs": [
    {
     "name": "stdout",
     "output_type": "stream",
     "text": [
      "b0:32.68246972988583, b1:4.252880674352682\n"
     ]
    },
    {
     "data": {
      "text/plain": [
       "\"\\nrmse = 0\\nfor i in range(m):\\n    y_pred = b0 + b1 * X[i]\\n    rmse += (Y[i] - y_pred) ** 2\\nrmse = np.sqrt(rmse/m)\\nprint('RMSE:',rmse)\\n\""
      ]
     },
     "execution_count": 28,
     "metadata": {},
     "output_type": "execute_result"
    }
   ],
   "source": [
    "import numpy as np\n",
    "import pandas as pd\n",
    "\n",
    "\n",
    "data = pd.read_csv('genomes.csv')\n",
    "\n",
    "X = data['size'].values\n",
    "Y = data['GC'].values\n",
    "\n",
    "mean_x = np.mean(X)\n",
    "mean_y = np.mean(Y)\n",
    "\n",
    "m = len(X)\n",
    "\n",
    "numer = 0\n",
    "denom = 0\n",
    "for i in range(m):\n",
    "    numer += (X[i] - mean_x) * (Y[i] - mean_y)\n",
    "    denom += (X[i] - mean_x) ** 2\n",
    "b1 = numer / denom\n",
    "b0 = mean_y - (b1 * mean_x)\n",
    "print(f'b0:{b0}, b1:{b1}')\n",
    "'''\n",
    "rmse = 0\n",
    "for i in range(m):\n",
    "    y_pred = b0 + b1 * X[i]\n",
    "    rmse += (Y[i] - y_pred) ** 2\n",
    "rmse = np.sqrt(rmse/m)\n",
    "print('RMSE:',rmse)\n",
    "'''"
   ]
  }
 ],
 "metadata": {
  "kernelspec": {
   "display_name": "Python 3",
   "language": "python",
   "name": "python3"
  },
  "language_info": {
   "codemirror_mode": {
    "name": "ipython",
    "version": 3
   },
   "file_extension": ".py",
   "mimetype": "text/x-python",
   "name": "python",
   "nbconvert_exporter": "python",
   "pygments_lexer": "ipython3",
   "version": "3.8.4"
  }
 },
 "nbformat": 4,
 "nbformat_minor": 4
}
