{
 "cells": [
  {
   "cell_type": "code",
   "execution_count": 1,
   "metadata": {},
   "outputs": [
    {
     "name": "stdout",
     "output_type": "stream",
     "text": [
      "-8.881784197001252e-16\n",
      "0.0\n",
      "1.7763568394002505e-15\n"
     ]
    }
   ],
   "source": [
    "a=(2.3 * 3.0) - 6.9\n",
    "b=(3.45 * 2.0) - 6.9\n",
    "c=(3.45 * 3.0) - 10.35\n",
    "print(a)\n",
    "print(b)\n",
    "print(c)"
   ]
  },
  {
   "cell_type": "code",
   "execution_count": 2,
   "metadata": {},
   "outputs": [
    {
     "name": "stdout",
     "output_type": "stream",
     "text": [
      "-8.881784197001252e-16\n",
      "0.0\n",
      "1.7763568394002505e-15\n"
     ]
    }
   ],
   "source": [
    "a=(2.3 * 3.0) - 6.9\n",
    "b=(3.45 * 2.0) - 6.9\n",
    "c=(3.45 * 3.0) - 10.35\n",
    "print(float(a))\n",
    "print(float(b))\n",
    "print(float(c))"
   ]
  },
  {
   "cell_type": "code",
   "execution_count": 3,
   "metadata": {},
   "outputs": [
    {
     "name": "stdout",
     "output_type": "stream",
     "text": [
      "0\n",
      "0\n",
      "0\n"
     ]
    }
   ],
   "source": [
    "a=round((2.3 * 3.0) - 6.9)\n",
    "b=round((3.45 * 2.0) - 6.9)\n",
    "c=round((3.45 * 3.0) - 10.35)\n",
    "print(a)\n",
    "print(b)\n",
    "print(c)"
   ]
  },
  {
   "cell_type": "code",
   "execution_count": 4,
   "metadata": {},
   "outputs": [
    {
     "name": "stdout",
     "output_type": "stream",
     "text": [
      "0.09999999999999964\n",
      "0.09999999999999964\n",
      "-0.34999999999999964\n"
     ]
    }
   ],
   "source": [
    "a=round(2.3 * 3.0) - 6.9\n",
    "b=round(3.45 * 2.0) - 6.9\n",
    "c=round(3.45 * 3.0) - 10.35\n",
    "print(a)\n",
    "print(b)\n",
    "print(c)"
   ]
  },
  {
   "cell_type": "code",
   "execution_count": 5,
   "metadata": {},
   "outputs": [
    {
     "name": "stdout",
     "output_type": "stream",
     "text": [
      "False\n",
      "True\n",
      "False\n"
     ]
    }
   ],
   "source": [
    "a=(2.3 * 3.0) == 6.9\n",
    "b=(3.45 * 2.0) == 6.9\n",
    "c=(3.45 * 3.0) == 10.35\n",
    "print(a)\n",
    "print(b)\n",
    "print(c)"
   ]
  },
  {
   "cell_type": "code",
   "execution_count": 6,
   "metadata": {},
   "outputs": [
    {
     "name": "stdout",
     "output_type": "stream",
     "text": [
      "0\n",
      "0\n",
      "0\n"
     ]
    }
   ],
   "source": [
    "list=[((2.3 * 3.0) - 6.9),((3.45 * 2.0) - 6.9),((3.45 * 3.0) - 10.35)]\n",
    "def count(numbers):\n",
    "    i=0\n",
    "    for i in numbers:\n",
    "        print(round(float(i)))\n",
    "        i+=1\n",
    "count(list)"
   ]
  },
  {
   "cell_type": "code",
   "execution_count": 7,
   "metadata": {},
   "outputs": [
    {
     "name": "stdout",
     "output_type": "stream",
     "text": [
      "-0.00\n",
      "0.00\n",
      "0.00\n"
     ]
    }
   ],
   "source": [
    "a=(2.3 * 3.0) - 6.9\n",
    "b=(3.45 * 2.0) - 6.9\n",
    "c=(3.45 * 3.0) - 10.35\n",
    "print(format(a,\".2f\"))\n",
    "print(format(b,\".2f\"))\n",
    "print(format(c,\".2f\"))"
   ]
  },
  {
   "cell_type": "code",
   "execution_count": 8,
   "metadata": {},
   "outputs": [
    {
     "name": "stdout",
     "output_type": "stream",
     "text": [
      "Expected:\n",
      "0\n",
      "Achived:\n",
      "-8.88178E-16\n",
      "0.0\n",
      "1.77636E-15\n"
     ]
    }
   ],
   "source": [
    "from decimal import *\n",
    "getcontext().prec=6\n",
    "a=Decimal(2.3 * 3.0) - Decimal(6.9)\n",
    "b=(3.45 * 2.0) -(6.9)\n",
    "c=Decimal(3.45 * 3.0) - Decimal (10.35)\n",
    "print('Expected:',0,sep='\\n')\n",
    "print('Achived:',a,sep='\\n')\n",
    "print(b)\n",
    "print(c)"
   ]
  },
  {
   "cell_type": "code",
   "execution_count": null,
   "metadata": {},
   "outputs": [],
   "source": []
  }
 ],
 "metadata": {
  "kernelspec": {
   "display_name": "Python 3",
   "language": "python",
   "name": "python3"
  },
  "language_info": {
   "codemirror_mode": {
    "name": "ipython",
    "version": 3
   },
   "file_extension": ".py",
   "mimetype": "text/x-python",
   "name": "python",
   "nbconvert_exporter": "python",
   "pygments_lexer": "ipython3",
   "version": "3.8.4"
  }
 },
 "nbformat": 4,
 "nbformat_minor": 4
}
