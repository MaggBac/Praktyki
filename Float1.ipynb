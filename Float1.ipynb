{
 "cells": [
  {
   "cell_type": "markdown",
   "metadata": {},
   "source": [
    "# Precyzja obliczeń w Python na typach podstawowych(floating)"
   ]
  },
  {
   "cell_type": "markdown",
   "metadata": {},
   "source": [
    "Porównanie obliczeń na 3 równaniach typu float.Spodziewany wynik wydawałby się 0, jednak inne wyniki biorą się z tego,że komputery wykonują działania w systemie binarnym. Liczby zmiennoprzecinkowe składają się z trzech elementów bit znaku,wykładnika oraz mantysy. 32-bitowe liczby zmiennoprzecinkowe wykorzystują 1 bit na znak, 8 bitów na wykładnik i 23 bity na mantysę. By otrzymać rzeczywisty wykładnik trzeba odjąć 127 od zakodowanej liczby w bitach wykładnika,co prowadzi do tego, że wykładnik może wynosić od -126 do +127."
   ]
  },
  {
   "cell_type": "markdown",
   "metadata": {},
   "source": [
    "Kod jest bez funkcji float,ponieważ Python3 ma wbudowaną daną funkcje."
   ]
  },
  {
   "cell_type": "code",
   "execution_count": 1,
   "metadata": {},
   "outputs": [
    {
     "name": "stdout",
     "output_type": "stream",
     "text": [
      "-8.881784197001252e-16\n",
      "0.0\n",
      "1.7763568394002505e-15\n"
     ]
    }
   ],
   "source": [
    "a=(2.3 * 3.0) - 6.9\n",
    "b=(3.45 * 2.0) - 6.9\n",
    "c=(3.45 * 3.0) - 10.35\n",
    "print(a)\n",
    "print(b)\n",
    "print(c)"
   ]
  },
  {
   "cell_type": "markdown",
   "metadata": {},
   "source": [
    "Funkcja round() zaookrągla wyniki.\n",
    "Wynikiem tej funkcji jest liczba zaokrąglona do zadanego miejsca po przecinku(domyślnie do zerowego miejsca dziesiętnego).\n",
    "W pierwszych przykładach funkcja round() zaokrągla cały wynik,dając wynik równy przewidywanemu(0), \n",
    "a w kolejnych działaniach zaokrąglana jest tylko pierwsza wymnożona liczba co powoduje uzyskanie innego wyniku niż przewidywany."
   ]
  },
  {
   "cell_type": "code",
   "execution_count": 3,
   "metadata": {},
   "outputs": [
    {
     "name": "stdout",
     "output_type": "stream",
     "text": [
      "0\n",
      "0\n",
      "0\n"
     ]
    }
   ],
   "source": [
    "a=round((2.3 * 3.0) - 6.9)\n",
    "b=round((3.45 * 2.0) - 6.9)\n",
    "c=round((3.45 * 3.0) - 10.35)\n",
    "print(a)\n",
    "print(b)\n",
    "print(c)"
   ]
  },
  {
   "cell_type": "code",
   "execution_count": 4,
   "metadata": {},
   "outputs": [
    {
     "name": "stdout",
     "output_type": "stream",
     "text": [
      "0.09999999999999964\n",
      "0.09999999999999964\n",
      "-0.34999999999999964\n"
     ]
    }
   ],
   "source": [
    "a=round(2.3 * 3.0) - 6.9\n",
    "b=round(3.45 * 2.0) - 6.9\n",
    "c=round(3.45 * 3.0) - 10.35\n",
    "print(a)\n",
    "print(b)\n",
    "print(c)"
   ]
  },
  {
   "cell_type": "markdown",
   "metadata": {},
   "source": [
    "Porównanie dwóch wartości,w przypisanej zmiennej.Powoduje zwrot wartości logicznych(True or False).\n",
    "Tylko w przypadku zmiennej b wynikiem jest True,co oznacza,że wartości są sobie równe."
   ]
  },
  {
   "cell_type": "code",
   "execution_count": 5,
   "metadata": {},
   "outputs": [
    {
     "name": "stdout",
     "output_type": "stream",
     "text": [
      "False\n",
      "True\n",
      "False\n"
     ]
    }
   ],
   "source": [
    "a=(2.3 * 3.0) == 6.9\n",
    "b=(3.45 * 2.0) == 6.9\n",
    "c=(3.45 * 3.0) == 10.35\n",
    "print(a)\n",
    "print(b)\n",
    "print(c)"
   ]
  },
  {
   "cell_type": "markdown",
   "metadata": {},
   "source": [
    "count jest to funkcja,która tak jak w przykładach wyżej,zaookrągla cały wynik."
   ]
  },
  {
   "cell_type": "code",
   "execution_count": 6,
   "metadata": {},
   "outputs": [
    {
     "name": "stdout",
     "output_type": "stream",
     "text": [
      "0\n",
      "0\n",
      "0\n"
     ]
    }
   ],
   "source": [
    "list=[((2.3 * 3.0) - 6.9),((3.45 * 2.0) - 6.9),((3.45 * 3.0) - 10.35)]\n",
    "def count(numbers):\n",
    "    i=0\n",
    "    for i in numbers:\n",
    "        print(round(float(i)))\n",
    "        i+=1\n",
    "count(list)"
   ]
  },
  {
   "cell_type": "markdown",
   "metadata": {},
   "source": [
    "Funkcja format(x,\".2f\")formatuje wynik zmiennej do dwóch miejsc po przecinku."
   ]
  },
  {
   "cell_type": "code",
   "execution_count": 7,
   "metadata": {},
   "outputs": [
    {
     "name": "stdout",
     "output_type": "stream",
     "text": [
      "-0.00\n",
      "0.00\n",
      "0.00\n"
     ]
    }
   ],
   "source": [
    "a=(2.3 * 3.0) - 6.9\n",
    "b=(3.45 * 2.0) - 6.9\n",
    "c=(3.45 * 3.0) - 10.35\n",
    "print(format(a,\".2f\"))\n",
    "print(format(b,\".2f\"))\n",
    "print(format(c,\".2f\"))"
   ]
  },
  {
   "cell_type": "markdown",
   "metadata": {},
   "source": [
    "Z modułu decimal wszystko jest importowane,funkcja getcontext() umożliwia przeglądanie bieżącego kontekstu\n",
    "a atrybut prec ustawia nowe wartości precyzji dla nowych wartości utworzonych w wyniku działań arytmetycznych.\n",
    "Moduł dziesiętny decimal tworzy poprawnie zaokrągloną dziesiętną arytmetyke zmiennoprzecinkową.\n",
    "Wyniki są zbliżone do 0,jednak są inne niż przewidywana wartość."
   ]
  },
  {
   "cell_type": "code",
   "execution_count": 1,
   "metadata": {},
   "outputs": [
    {
     "name": "stdout",
     "output_type": "stream",
     "text": [
      "Expected:\n",
      "0.0\n",
      "Achived:\n",
      "-3.55271E-16\n",
      "-3.55271E-16\n",
      "3.55271E-16\n"
     ]
    }
   ],
   "source": [
    "from decimal import *\n",
    "getcontext().prec=6\n",
    "a=(Decimal(2.3) * Decimal(3.0))  - Decimal(6.9)\n",
    "b=(Decimal(3.45) * Decimal(2.0)) - Decimal(6.9)\n",
    "c=(Decimal(3.45) * Decimal(3.0)) - Decimal(10.35)\n",
    "print('Expected:',0.0,sep='\\n')\n",
    "print('Achived:',a,sep='\\n')\n",
    "print(b)\n",
    "print(c)"
   ]
  }
 ],
 "metadata": {
  "kernelspec": {
   "display_name": "Python 3",
   "language": "python",
   "name": "python3"
  },
  "language_info": {
   "codemirror_mode": {
    "name": "ipython",
    "version": 3
   },
   "file_extension": ".py",
   "mimetype": "text/x-python",
   "name": "python",
   "nbconvert_exporter": "python",
   "pygments_lexer": "ipython3",
   "version": "3.8.4"
  }
 },
 "nbformat": 4,
 "nbformat_minor": 4
}
