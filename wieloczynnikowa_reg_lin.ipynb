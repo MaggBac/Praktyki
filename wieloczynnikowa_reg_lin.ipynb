{
 "cells": [
  {
   "cell_type": "code",
   "execution_count": 11,
   "metadata": {},
   "outputs": [
    {
     "name": "stdout",
     "output_type": "stream",
     "text": [
      "           [,1]\n",
      "   3.462658e+02\n",
      "x1 9.373550e-02\n",
      "x2 1.497034e-03\n",
      "[1] \"round:\"\n"
     ]
    },
    {
     "data": {
      "text/html": [
       "<ol class=list-inline>\n",
       "\t<li>346</li>\n",
       "\t<li>0</li>\n",
       "\t<li>0</li>\n",
       "</ol>\n"
      ],
      "text/latex": [
       "\\begin{enumerate*}\n",
       "\\item 346\n",
       "\\item 0\n",
       "\\item 0\n",
       "\\end{enumerate*}\n"
      ],
      "text/markdown": [
       "1. 346\n",
       "2. 0\n",
       "3. 0\n",
       "\n",
       "\n"
      ],
      "text/plain": [
       "[1] 346   0   0"
      ]
     },
     "metadata": {},
     "output_type": "display_data"
    },
    {
     "name": "stdout",
     "output_type": "stream",
     "text": [
      "[1] \"z użyciem biblioteki Rmpfr:\"\n"
     ]
    },
    {
     "data": {
      "text/plain": [
       "'mpfrMatrix' of dim(.) =  (3, 1) of precision  128   bits \n",
       "   [,1]                                        \n",
       "      346.2658200129554302293399814516305923462\n",
       "x1  0.09373549674477449356047031869820784777403\n",
       "x2 0.001497034213840897631797588474000804126263"
      ]
     },
     "metadata": {},
     "output_type": "display_data"
    },
    {
     "data": {
      "text/plain": [
       "'mpfrMatrix' of dim(.) =  (3, 1) of precision  180   bits \n",
       "   [,1]                                                        \n",
       "      346.26582001295543022933998145163059234619140625000000000\n",
       "x1  0.093735496744774493560470318698207847774028778076171875000\n",
       "x2 0.0014970342138408976317975884740008041262626647949218750000"
      ]
     },
     "metadata": {},
     "output_type": "display_data"
    },
    {
     "name": "stdout",
     "output_type": "stream",
     "text": [
      "[1] \"przyrównanie do wbudowanej funkcji lm:\"\n"
     ]
    },
    {
     "data": {
      "text/html": [
       "<table>\n",
       "<tbody>\n",
       "\t<tr><th scope=row></th><td>FALSE</td></tr>\n",
       "\t<tr><th scope=row>x1</th><td>FALSE</td></tr>\n",
       "\t<tr><th scope=row>x2</th><td>FALSE</td></tr>\n",
       "</tbody>\n",
       "</table>\n"
      ],
      "text/latex": [
       "\\begin{tabular}{r|l}\n",
       "\t & FALSE\\\\\n",
       "\tx1 & FALSE\\\\\n",
       "\tx2 & FALSE\\\\\n",
       "\\end{tabular}\n"
      ],
      "text/markdown": [
       "\n",
       "|  | FALSE |\n",
       "| x1 | FALSE |\n",
       "| x2 | FALSE |\n",
       "\n"
      ],
      "text/plain": [
       "   [,1] \n",
       "   FALSE\n",
       "x1 FALSE\n",
       "x2 FALSE"
      ]
     },
     "metadata": {},
     "output_type": "display_data"
    },
    {
     "name": "stdout",
     "output_type": "stream",
     "text": [
      "[1] \"float:\"\n"
     ]
    },
    {
     "data": {
      "text/plain": [
       "# A float32 matrix: 3x1\n",
       "         [,1]\n",
       "   346.265808\n",
       "x1   0.093735\n",
       "x2   0.001497"
      ]
     },
     "metadata": {},
     "output_type": "display_data"
    }
   ],
   "source": [
    "library(Rmpfr)\n",
    "library(float)\n",
    "\n",
    "genomes=read.csv(\"genomes.csv\")\n",
    "genomes$temperature[is.na(genomes$temperature)] = 0\n",
    "\n",
    "d = lm(genomes$GC ~ genomes$size + genomes$temperature)\n",
    "\n",
    "y1 = log(genomes$GC)\n",
    "x = genomes$size\n",
    "x2 = genomes$temperature\n",
    "\n",
    "estim = function(x1,x2,y){\n",
    "    Y = as.matrix(y);\n",
    "    X = as.matrix(cbind(1,x1,x2));\n",
    "    beta = solve(t(X) %*% X) %*% (t(X) %*% Y)\n",
    "    return (beta)\n",
    "}\n",
    "\n",
    "convert = function(z){\n",
    "    c = z*(10**2)\n",
    "    return(c)\n",
    "}\n",
    "y = convert(y1)\n",
    "x = convert(x)\n",
    "x1 = convert(x2)\n",
    "\n",
    "estim = estim(x,x1,y)\n",
    "print(estim)\n",
    "\n",
    "print('round:')\n",
    "round(as.numeric(estim))\n",
    "print('z użyciem biblioteki Rmpfr:')\n",
    "mpfr(estim, 128)\n",
    "mpfr(estim, 180)\n",
    "print('przyrównanie do wbudowanej funkcji lm:')\n",
    "estim == d$coeff\n",
    "print('float:')\n",
    "fl(estim)"
   ]
  },
  {
   "cell_type": "markdown",
   "metadata": {},
   "source": [
    "Wartość estymatora największa jest dla biblioteki Rmpfr z funkcji mpfr z precyzją 180.\n",
    "\n",
    "Wartość estymatora najmniejsza jest dla kodu bez użycia wbudowanych funkcji.\n",
    "\n",
    "Różnice pomiędzy wartościami: różnice spowodowane są zaokrąglaniem liczb zmiennoprzecinkowych,użycie funkcji wbudowanych(takich jak mpfr)daje nam bardziej precyzyjne wyniki,dlatego wyniki się różnią."
   ]
  },
  {
   "cell_type": "markdown",
   "metadata": {},
   "source": [
    "Wieloczynnikowa regresja liniowa z 4 zmiennymi:"
   ]
  },
  {
   "cell_type": "code",
   "execution_count": 60,
   "metadata": {},
   "outputs": [
    {
     "name": "stdout",
     "output_type": "stream",
     "text": [
      "            [,1]\n",
      "    8.943380e+14\n",
      "x1  8.565262e+10\n",
      "x2  1.430070e+11\n",
      "x3 -2.199507e+09\n",
      "x4  1.110461e+08\n",
      "[1] \"round:\"\n"
     ]
    },
    {
     "data": {
      "text/html": [
       "<ol class=list-inline>\n",
       "\t<li>894</li>\n",
       "\t<li>0</li>\n",
       "\t<li>0</li>\n",
       "\t<li>0</li>\n",
       "\t<li>0</li>\n",
       "</ol>\n"
      ],
      "text/latex": [
       "\\begin{enumerate*}\n",
       "\\item 894\n",
       "\\item 0\n",
       "\\item 0\n",
       "\\item 0\n",
       "\\item 0\n",
       "\\end{enumerate*}\n"
      ],
      "text/markdown": [
       "1. 894\n",
       "2. 0\n",
       "3. 0\n",
       "4. 0\n",
       "5. 0\n",
       "\n",
       "\n"
      ],
      "text/plain": [
       "[1] 894   0   0   0   0"
      ]
     },
     "metadata": {},
     "output_type": "display_data"
    },
    {
     "name": "stdout",
     "output_type": "stream",
     "text": [
      "[1] \"z użyciem biblioteki Rmpfr:\"\n"
     ]
    },
    {
     "data": {
      "text/plain": [
       "'mpfrMatrix' of dim(.) =  (5, 1) of precision  120   bits \n",
       "   [,1]                                       \n",
       "       894.33795836761419195681810379028320312\n",
       "x1   0.085652621981125776073895394802093505859\n",
       "x2    0.14300699763407465070486068725585937500\n",
       "x3 -0.0021995065908697597478749230504035949707\n",
       "x4 0.00011104609979994961577176582068204879761"
      ]
     },
     "metadata": {},
     "output_type": "display_data"
    },
    {
     "data": {
      "text/plain": [
       "'mpfrMatrix' of dim(.) =  (5, 1) of precision  150   bits \n",
       "   [,1]                                                \n",
       "       894.33795836761419195681810379028320312500000000\n",
       "x1   0.085652621981125776073895394802093505859375000000\n",
       "x2    0.14300699763407465070486068725585937500000000000\n",
       "x3 -0.0021995065908697597478749230504035949707031250000\n",
       "x4 0.00011104609979994961577176582068204879760742187500"
      ]
     },
     "metadata": {},
     "output_type": "display_data"
    },
    {
     "name": "stdout",
     "output_type": "stream",
     "text": [
      "[1] \"float:\"\n"
     ]
    },
    {
     "data": {
      "text/plain": [
       "# A float32 matrix: 5x1\n",
       "          [,1]\n",
       "    8.9434e+02\n",
       "x1  8.5653e-02\n",
       "x2  1.4301e-01\n",
       "x3 -2.1995e-03\n",
       "x4  1.1105e-04"
      ]
     },
     "metadata": {},
     "output_type": "display_data"
    }
   ],
   "source": [
    "library(Rmpfr)\n",
    "library(float)\n",
    "\n",
    "reg=read.csv(\"seyreg.csv\")\n",
    "\n",
    "y1 = log(reg$vlm)\n",
    "x1 = reg$at\n",
    "x2 = reg$sst\n",
    "x3 = reg$sl\n",
    "x4 = reg$pt\n",
    "\n",
    "estim = function(x1,x2,x3,x4,y){\n",
    "    Y = as.matrix(y);\n",
    "    X = as.matrix(cbind(1,x1,x2,x3,x4));\n",
    "    beta = solve(t(X) %*% X) %*% (t(X) %*% Y)\n",
    "    return (beta)\n",
    "}\n",
    "convert = function(c){\n",
    "    z=c*(10**12)\n",
    "    return(z)\n",
    "}\n",
    "\n",
    "estim = estim(x1,x2,x3,x4,y)\n",
    "print(convert(estim))\n",
    "\n",
    "print('round:')\n",
    "round(as.numeric(estim))\n",
    "print('z użyciem biblioteki Rmpfr:')\n",
    "mpfr(estim, 120)\n",
    "mpfr(estim, 150)\n",
    "print('float:')\n",
    "fl(estim)\n",
    "\n",
    "\n",
    "\n"
   ]
  },
  {
   "cell_type": "markdown",
   "metadata": {},
   "source": [
    "Wartość estymatora największa jest dla funkcji mpfr o prezcyzji 150.  \n",
    "\n",
    "Wartość estymatora najmniejsza jest dla napisanego kodu bez funkcji wbudowanych oraz dla funkcji float.\n",
    "\n",
    "Różnice pomiędzy wartościami: polegają na zaokrąglaniu liczb,użyte funkcje(mpfr) są bardziej precyzyjne."
   ]
  },
  {
   "cell_type": "markdown",
   "metadata": {},
   "source": [
    "Wieloczynnikowa liniowa regresja z użyciem funkcji lm:"
   ]
  },
  {
   "cell_type": "code",
   "execution_count": 1,
   "metadata": {
    "scrolled": true
   },
   "outputs": [
    {
     "data": {
      "text/html": [
       "<table>\n",
       "<thead><tr><th scope=col>organism</th><th scope=col>group</th><th scope=col>size</th><th scope=col>GC</th><th scope=col>habitat</th><th scope=col>temp.group</th><th scope=col>temperature</th></tr></thead>\n",
       "<tbody>\n",
       "\t<tr><td>Acaryochloris marina MBIC11017           </td><td>Cyanobacteria                            </td><td>8.36                                     </td><td>47.0                                     </td><td>Aquatic                                  </td><td>Mesophilic                               </td><td> 0                                       </td></tr>\n",
       "\t<tr><td>Acholeplasma laidlawii PG-8A             </td><td>Firmicutes                               </td><td>1.50                                     </td><td>31.9                                     </td><td>Specialized                              </td><td>Mesophilic                               </td><td>37                                       </td></tr>\n",
       "\t<tr><td>Acidiphilium cryptum JF-5                </td><td>Alphaproteobacteria                      </td><td>3.97                                     </td><td>67.1                                     </td><td>Multiple                                 </td><td>Mesophilic                               </td><td>35                                       </td></tr>\n",
       "\t<tr><td>Acidithiobacillus ferrooxidans ATCC 53993</td><td>Other Bacteria                           </td><td>2.90                                     </td><td>58.9                                     </td><td>Specialized                              </td><td>Mesophilic                               </td><td> 0                                       </td></tr>\n",
       "\t<tr><td>Acidothermus cellulolyticus 11B          </td><td>Actinobacteria                           </td><td>2.40                                     </td><td>66.9                                     </td><td>Aquatic                                  </td><td>Thermophilic                             </td><td>58                                       </td></tr>\n",
       "\t<tr><td>Acidovorax avenae subsp. citrulli AAC00-1</td><td>Betaproteobacteria                       </td><td>5.40                                     </td><td>68.5                                     </td><td>Multiple                                 </td><td>Mesophilic                               </td><td> 0                                       </td></tr>\n",
       "</tbody>\n",
       "</table>\n"
      ],
      "text/latex": [
       "\\begin{tabular}{r|lllllll}\n",
       " organism & group & size & GC & habitat & temp.group & temperature\\\\\n",
       "\\hline\n",
       "\t Acaryochloris marina MBIC11017            & Cyanobacteria                             & 8.36                                      & 47.0                                      & Aquatic                                   & Mesophilic                                &  0                                       \\\\\n",
       "\t Acholeplasma laidlawii PG-8A              & Firmicutes                                & 1.50                                      & 31.9                                      & Specialized                               & Mesophilic                                & 37                                       \\\\\n",
       "\t Acidiphilium cryptum JF-5                 & Alphaproteobacteria                       & 3.97                                      & 67.1                                      & Multiple                                  & Mesophilic                                & 35                                       \\\\\n",
       "\t Acidithiobacillus ferrooxidans ATCC 53993 & Other Bacteria                            & 2.90                                      & 58.9                                      & Specialized                               & Mesophilic                                &  0                                       \\\\\n",
       "\t Acidothermus cellulolyticus 11B           & Actinobacteria                            & 2.40                                      & 66.9                                      & Aquatic                                   & Thermophilic                              & 58                                       \\\\\n",
       "\t Acidovorax avenae subsp. citrulli AAC00-1 & Betaproteobacteria                        & 5.40                                      & 68.5                                      & Multiple                                  & Mesophilic                                &  0                                       \\\\\n",
       "\\end{tabular}\n"
      ],
      "text/markdown": [
       "\n",
       "| organism | group | size | GC | habitat | temp.group | temperature |\n",
       "|---|---|---|---|---|---|---|\n",
       "| Acaryochloris marina MBIC11017            | Cyanobacteria                             | 8.36                                      | 47.0                                      | Aquatic                                   | Mesophilic                                |  0                                        |\n",
       "| Acholeplasma laidlawii PG-8A              | Firmicutes                                | 1.50                                      | 31.9                                      | Specialized                               | Mesophilic                                | 37                                        |\n",
       "| Acidiphilium cryptum JF-5                 | Alphaproteobacteria                       | 3.97                                      | 67.1                                      | Multiple                                  | Mesophilic                                | 35                                        |\n",
       "| Acidithiobacillus ferrooxidans ATCC 53993 | Other Bacteria                            | 2.90                                      | 58.9                                      | Specialized                               | Mesophilic                                |  0                                        |\n",
       "| Acidothermus cellulolyticus 11B           | Actinobacteria                            | 2.40                                      | 66.9                                      | Aquatic                                   | Thermophilic                              | 58                                        |\n",
       "| Acidovorax avenae subsp. citrulli AAC00-1 | Betaproteobacteria                        | 5.40                                      | 68.5                                      | Multiple                                  | Mesophilic                                |  0                                        |\n",
       "\n"
      ],
      "text/plain": [
       "  organism                                  group               size GC  \n",
       "1 Acaryochloris marina MBIC11017            Cyanobacteria       8.36 47.0\n",
       "2 Acholeplasma laidlawii PG-8A              Firmicutes          1.50 31.9\n",
       "3 Acidiphilium cryptum JF-5                 Alphaproteobacteria 3.97 67.1\n",
       "4 Acidithiobacillus ferrooxidans ATCC 53993 Other Bacteria      2.90 58.9\n",
       "5 Acidothermus cellulolyticus 11B           Actinobacteria      2.40 66.9\n",
       "6 Acidovorax avenae subsp. citrulli AAC00-1 Betaproteobacteria  5.40 68.5\n",
       "  habitat     temp.group   temperature\n",
       "1 Aquatic     Mesophilic    0         \n",
       "2 Specialized Mesophilic   37         \n",
       "3 Multiple    Mesophilic   35         \n",
       "4 Specialized Mesophilic    0         \n",
       "5 Aquatic     Thermophilic 58         \n",
       "6 Multiple    Mesophilic    0         "
      ]
     },
     "metadata": {},
     "output_type": "display_data"
    },
    {
     "data": {
      "text/plain": [
       "\n",
       "Call:\n",
       "lm(formula = dt$GC ~ dt$size + dt$temperature)\n",
       "\n",
       "Residuals:\n",
       "    Min      1Q  Median      3Q     Max \n",
       "-27.229  -7.422  -1.016   8.267  29.543 \n",
       "\n",
       "Coefficients:\n",
       "               Estimate Std. Error t value Pr(>|t|)    \n",
       "(Intercept)    30.91213    0.94561  32.690  < 2e-16 ***\n",
       "dt$size         4.36945    0.20477  21.338  < 2e-16 ***\n",
       "dt$temperature  0.06361    0.01715   3.709 0.000224 ***\n",
       "---\n",
       "Signif. codes:  0 '***' 0.001 '**' 0.01 '*' 0.05 '.' 0.1 ' ' 1\n",
       "\n",
       "Residual standard error: 10.29 on 721 degrees of freedom\n",
       "Multiple R-squared:  0.3872,\tAdjusted R-squared:  0.3855 \n",
       "F-statistic: 227.8 on 2 and 721 DF,  p-value: < 2.2e-16\n"
      ]
     },
     "metadata": {},
     "output_type": "display_data"
    }
   ],
   "source": [
    "dt=read.csv(\"genomes.csv\")\n",
    "\n",
    "dt$temperature[is.na(dt$temperature)] = 0\n",
    "head(dt)\n",
    "\n",
    "\n",
    "d = lm(dt$GC ~ dt$size + dt$temperature)\n",
    "summary(d)\n"
   ]
  },
  {
   "cell_type": "code",
   "execution_count": null,
   "metadata": {},
   "outputs": [],
   "source": []
  }
 ],
 "metadata": {
  "kernelspec": {
   "display_name": "R",
   "language": "R",
   "name": "ir"
  }
 },
 "nbformat": 4,
 "nbformat_minor": 4
}
