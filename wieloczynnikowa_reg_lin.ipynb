{
 "cells": [
  {
   "cell_type": "code",
   "execution_count": 3,
   "metadata": {},
   "outputs": [
    {
     "name": "stdout",
     "output_type": "stream",
     "text": [
      "        [,1]\n",
      "   30.912131\n",
      "x1  4.369448\n",
      "x2  0.063614\n",
      "[1] \"round:\"\n"
     ]
    },
    {
     "data": {
      "text/html": [
       "<ol class=list-inline>\n",
       "\t<li>31</li>\n",
       "\t<li>4</li>\n",
       "\t<li>0</li>\n",
       "</ol>\n"
      ],
      "text/latex": [
       "\\begin{enumerate*}\n",
       "\\item 31\n",
       "\\item 4\n",
       "\\item 0\n",
       "\\end{enumerate*}\n"
      ],
      "text/markdown": [
       "1. 31\n",
       "2. 4\n",
       "3. 0\n",
       "\n",
       "\n"
      ],
      "text/plain": [
       "[1] 31  4  0"
      ]
     },
     "metadata": {},
     "output_type": "display_data"
    },
    {
     "name": "stdout",
     "output_type": "stream",
     "text": [
      "[1] \"z użyciem biblioteki Rmpfr:\"\n"
     ]
    },
    {
     "data": {
      "text/plain": [
       "'mpfrMatrix' of dim(.) =  (3, 1) of precision  128   bits \n",
       "   [,1]                                       \n",
       "     30.91213067342200560005949228070676326752\n",
       "x1   4.369447961519718148792890133336186408997\n",
       "x2 0.06361400494390001547628799016820266842842"
      ]
     },
     "metadata": {},
     "output_type": "display_data"
    },
    {
     "data": {
      "text/plain": [
       "'mpfrMatrix' of dim(.) =  (3, 1) of precision  333   bits \n",
       "   [,1]                                                                                                     \n",
       "     30.9121306734220056000594922807067632675170898437500000000000000000000000000000000000000000000000000000\n",
       "x1   4.36944796151971814879289013333618640899658203125000000000000000000000000000000000000000000000000000000\n",
       "x2 0.0636140049439000154762879901682026684284210205078125000000000000000000000000000000000000000000000000000"
      ]
     },
     "metadata": {},
     "output_type": "display_data"
    },
    {
     "name": "stdout",
     "output_type": "stream",
     "text": [
      "[1] \"przyrównanie do wbudowanej funkcji lm:\"\n"
     ]
    },
    {
     "data": {
      "text/html": [
       "<table>\n",
       "<tbody>\n",
       "\t<tr><th scope=row></th><td>FALSE</td></tr>\n",
       "\t<tr><th scope=row>x1</th><td>FALSE</td></tr>\n",
       "\t<tr><th scope=row>x2</th><td>FALSE</td></tr>\n",
       "</tbody>\n",
       "</table>\n"
      ],
      "text/latex": [
       "\\begin{tabular}{r|l}\n",
       "\t & FALSE\\\\\n",
       "\tx1 & FALSE\\\\\n",
       "\tx2 & FALSE\\\\\n",
       "\\end{tabular}\n"
      ],
      "text/markdown": [
       "\n",
       "|  | FALSE |\n",
       "| x1 | FALSE |\n",
       "| x2 | FALSE |\n",
       "\n"
      ],
      "text/plain": [
       "   [,1] \n",
       "   FALSE\n",
       "x1 FALSE\n",
       "x2 FALSE"
      ]
     },
     "metadata": {},
     "output_type": "display_data"
    },
    {
     "name": "stdout",
     "output_type": "stream",
     "text": [
      "[1] \"float:\"\n"
     ]
    },
    {
     "data": {
      "text/plain": [
       "# A float32 matrix: 3x1\n",
       "        [,1]\n",
       "   30.912130\n",
       "x1  4.369448\n",
       "x2  0.063614"
      ]
     },
     "metadata": {},
     "output_type": "display_data"
    }
   ],
   "source": [
    "library(Rmpfr)\n",
    "library(float)\n",
    "\n",
    "genomes=read.csv(\"genomes.csv\")\n",
    "genomes$temperature[is.na(genomes$temperature)] = 0\n",
    "\n",
    "d = lm(genomes$GC ~ genomes$size + genomes$temperature)\n",
    "\n",
    "y = genomes$GC\n",
    "x1 = genomes$size\n",
    "x2 = genomes$temperature\n",
    "\n",
    "estim = function(x1,x2,y){\n",
    "    Y = as.matrix(y);\n",
    "    X = as.matrix(cbind(1,x1,x2));\n",
    "    beta = solve(t(X) %*% X) %*% (t(X) %*% Y)\n",
    "    return (beta)\n",
    "}\n",
    "\n",
    "estim = estim(x1,x2,y)\n",
    "print(estim)\n",
    "\n",
    "print('round:')\n",
    "round(as.numeric(estim))\n",
    "print('z użyciem biblioteki Rmpfr:')\n",
    "mpfr(estim, 128)\n",
    "mpfr(estim, 333)\n",
    "print('przyrównanie do wbudowanej funkcji lm:')\n",
    "estim == d$coeff\n",
    "print('float:')\n",
    "fl(estim)"
   ]
  },
  {
   "cell_type": "code",
   "execution_count": 1,
   "metadata": {
    "scrolled": true
   },
   "outputs": [
    {
     "data": {
      "text/html": [
       "<table>\n",
       "<thead><tr><th scope=col>organism</th><th scope=col>group</th><th scope=col>size</th><th scope=col>GC</th><th scope=col>habitat</th><th scope=col>temp.group</th><th scope=col>temperature</th></tr></thead>\n",
       "<tbody>\n",
       "\t<tr><td>Acaryochloris marina MBIC11017           </td><td>Cyanobacteria                            </td><td>8.36                                     </td><td>47.0                                     </td><td>Aquatic                                  </td><td>Mesophilic                               </td><td> 0                                       </td></tr>\n",
       "\t<tr><td>Acholeplasma laidlawii PG-8A             </td><td>Firmicutes                               </td><td>1.50                                     </td><td>31.9                                     </td><td>Specialized                              </td><td>Mesophilic                               </td><td>37                                       </td></tr>\n",
       "\t<tr><td>Acidiphilium cryptum JF-5                </td><td>Alphaproteobacteria                      </td><td>3.97                                     </td><td>67.1                                     </td><td>Multiple                                 </td><td>Mesophilic                               </td><td>35                                       </td></tr>\n",
       "\t<tr><td>Acidithiobacillus ferrooxidans ATCC 53993</td><td>Other Bacteria                           </td><td>2.90                                     </td><td>58.9                                     </td><td>Specialized                              </td><td>Mesophilic                               </td><td> 0                                       </td></tr>\n",
       "\t<tr><td>Acidothermus cellulolyticus 11B          </td><td>Actinobacteria                           </td><td>2.40                                     </td><td>66.9                                     </td><td>Aquatic                                  </td><td>Thermophilic                             </td><td>58                                       </td></tr>\n",
       "\t<tr><td>Acidovorax avenae subsp. citrulli AAC00-1</td><td>Betaproteobacteria                       </td><td>5.40                                     </td><td>68.5                                     </td><td>Multiple                                 </td><td>Mesophilic                               </td><td> 0                                       </td></tr>\n",
       "</tbody>\n",
       "</table>\n"
      ],
      "text/latex": [
       "\\begin{tabular}{r|lllllll}\n",
       " organism & group & size & GC & habitat & temp.group & temperature\\\\\n",
       "\\hline\n",
       "\t Acaryochloris marina MBIC11017            & Cyanobacteria                             & 8.36                                      & 47.0                                      & Aquatic                                   & Mesophilic                                &  0                                       \\\\\n",
       "\t Acholeplasma laidlawii PG-8A              & Firmicutes                                & 1.50                                      & 31.9                                      & Specialized                               & Mesophilic                                & 37                                       \\\\\n",
       "\t Acidiphilium cryptum JF-5                 & Alphaproteobacteria                       & 3.97                                      & 67.1                                      & Multiple                                  & Mesophilic                                & 35                                       \\\\\n",
       "\t Acidithiobacillus ferrooxidans ATCC 53993 & Other Bacteria                            & 2.90                                      & 58.9                                      & Specialized                               & Mesophilic                                &  0                                       \\\\\n",
       "\t Acidothermus cellulolyticus 11B           & Actinobacteria                            & 2.40                                      & 66.9                                      & Aquatic                                   & Thermophilic                              & 58                                       \\\\\n",
       "\t Acidovorax avenae subsp. citrulli AAC00-1 & Betaproteobacteria                        & 5.40                                      & 68.5                                      & Multiple                                  & Mesophilic                                &  0                                       \\\\\n",
       "\\end{tabular}\n"
      ],
      "text/markdown": [
       "\n",
       "| organism | group | size | GC | habitat | temp.group | temperature |\n",
       "|---|---|---|---|---|---|---|\n",
       "| Acaryochloris marina MBIC11017            | Cyanobacteria                             | 8.36                                      | 47.0                                      | Aquatic                                   | Mesophilic                                |  0                                        |\n",
       "| Acholeplasma laidlawii PG-8A              | Firmicutes                                | 1.50                                      | 31.9                                      | Specialized                               | Mesophilic                                | 37                                        |\n",
       "| Acidiphilium cryptum JF-5                 | Alphaproteobacteria                       | 3.97                                      | 67.1                                      | Multiple                                  | Mesophilic                                | 35                                        |\n",
       "| Acidithiobacillus ferrooxidans ATCC 53993 | Other Bacteria                            | 2.90                                      | 58.9                                      | Specialized                               | Mesophilic                                |  0                                        |\n",
       "| Acidothermus cellulolyticus 11B           | Actinobacteria                            | 2.40                                      | 66.9                                      | Aquatic                                   | Thermophilic                              | 58                                        |\n",
       "| Acidovorax avenae subsp. citrulli AAC00-1 | Betaproteobacteria                        | 5.40                                      | 68.5                                      | Multiple                                  | Mesophilic                                |  0                                        |\n",
       "\n"
      ],
      "text/plain": [
       "  organism                                  group               size GC  \n",
       "1 Acaryochloris marina MBIC11017            Cyanobacteria       8.36 47.0\n",
       "2 Acholeplasma laidlawii PG-8A              Firmicutes          1.50 31.9\n",
       "3 Acidiphilium cryptum JF-5                 Alphaproteobacteria 3.97 67.1\n",
       "4 Acidithiobacillus ferrooxidans ATCC 53993 Other Bacteria      2.90 58.9\n",
       "5 Acidothermus cellulolyticus 11B           Actinobacteria      2.40 66.9\n",
       "6 Acidovorax avenae subsp. citrulli AAC00-1 Betaproteobacteria  5.40 68.5\n",
       "  habitat     temp.group   temperature\n",
       "1 Aquatic     Mesophilic    0         \n",
       "2 Specialized Mesophilic   37         \n",
       "3 Multiple    Mesophilic   35         \n",
       "4 Specialized Mesophilic    0         \n",
       "5 Aquatic     Thermophilic 58         \n",
       "6 Multiple    Mesophilic    0         "
      ]
     },
     "metadata": {},
     "output_type": "display_data"
    },
    {
     "data": {
      "text/plain": [
       "\n",
       "Call:\n",
       "lm(formula = dt$GC ~ dt$size + dt$temperature)\n",
       "\n",
       "Residuals:\n",
       "    Min      1Q  Median      3Q     Max \n",
       "-27.229  -7.422  -1.016   8.267  29.543 \n",
       "\n",
       "Coefficients:\n",
       "               Estimate Std. Error t value Pr(>|t|)    \n",
       "(Intercept)    30.91213    0.94561  32.690  < 2e-16 ***\n",
       "dt$size         4.36945    0.20477  21.338  < 2e-16 ***\n",
       "dt$temperature  0.06361    0.01715   3.709 0.000224 ***\n",
       "---\n",
       "Signif. codes:  0 '***' 0.001 '**' 0.01 '*' 0.05 '.' 0.1 ' ' 1\n",
       "\n",
       "Residual standard error: 10.29 on 721 degrees of freedom\n",
       "Multiple R-squared:  0.3872,\tAdjusted R-squared:  0.3855 \n",
       "F-statistic: 227.8 on 2 and 721 DF,  p-value: < 2.2e-16\n"
      ]
     },
     "metadata": {},
     "output_type": "display_data"
    }
   ],
   "source": [
    "dt=read.csv(\"genomes.csv\")\n",
    "\n",
    "dt$temperature[is.na(dt$temperature)] = 0\n",
    "head(dt)\n",
    "\n",
    "\n",
    "d = lm(dt$GC ~ dt$size + dt$temperature)\n",
    "summary(d)\n"
   ]
  },
  {
   "cell_type": "code",
   "execution_count": null,
   "metadata": {},
   "outputs": [],
   "source": []
  }
 ],
 "metadata": {
  "kernelspec": {
   "display_name": "R",
   "language": "R",
   "name": "ir"
  },
  "language_info": {
   "codemirror_mode": "r",
   "file_extension": ".r",
   "mimetype": "text/x-r-source",
   "name": "R",
   "pygments_lexer": "r",
   "version": "3.6.1"
  }
 },
 "nbformat": 4,
 "nbformat_minor": 4
}
