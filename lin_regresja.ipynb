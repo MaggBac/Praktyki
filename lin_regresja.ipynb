{
 "cells": [
  {
   "cell_type": "code",
   "execution_count": 8,
   "metadata": {},
   "outputs": [
    {
     "name": "stdout",
     "output_type": "stream",
     "text": [
      "[1] \"my_size:\"\n"
     ]
    },
    {
     "data": {
      "text/html": [
       "0.0909923080828226"
      ],
      "text/latex": [
       "0.0909923080828226"
      ],
      "text/markdown": [
       "0.0909923080828226"
      ],
      "text/plain": [
       "[1] 0.09099231"
      ]
     },
     "metadata": {},
     "output_type": "display_data"
    },
    {
     "name": "stdout",
     "output_type": "stream",
     "text": [
      "[1] \"round:\"\n"
     ]
    },
    {
     "data": {
      "text/html": [
       "0"
      ],
      "text/latex": [
       "0"
      ],
      "text/markdown": [
       "0"
      ],
      "text/plain": [
       "[1] 0"
      ]
     },
     "metadata": {},
     "output_type": "display_data"
    },
    {
     "name": "stdout",
     "output_type": "stream",
     "text": [
      "[1] \"przyrównanie do wbudowanej funkcji lm:\"\n"
     ]
    },
    {
     "data": {
      "text/html": [
       "<strong>genomes$size:</strong> FALSE"
      ],
      "text/latex": [
       "\\textbf{genomes\\textbackslash{}\\$size:} FALSE"
      ],
      "text/markdown": [
       "**genomes$size:** FALSE"
      ],
      "text/plain": [
       "genomes$size \n",
       "       FALSE "
      ]
     },
     "metadata": {},
     "output_type": "display_data"
    },
    {
     "name": "stdout",
     "output_type": "stream",
     "text": [
      "[1] \"z użyciem biblioteki Rmpfr:\"\n"
     ]
    },
    {
     "data": {
      "text/plain": [
       "1 'mpfr' number of precision  128   bits \n",
       "[1] 0.09099230808282256222074835250168689526618"
      ]
     },
     "metadata": {},
     "output_type": "display_data"
    },
    {
     "data": {
      "text/plain": [
       "1 'mpfr' number of precision  333   bits \n",
       "[1] 0.09099230808282256222074835250168689526617527008056640625"
      ]
     },
     "metadata": {},
     "output_type": "display_data"
    },
    {
     "name": "stdout",
     "output_type": "stream",
     "text": [
      "[1] \"float\"\n"
     ]
    },
    {
     "data": {
      "text/plain": [
       "# A float32 vector: 1\n",
       "[1] 0.090992"
      ]
     },
     "metadata": {},
     "output_type": "display_data"
    },
    {
     "name": "stdout",
     "output_type": "stream",
     "text": [
      "[1] \"z użyciem funkcji sprintf:\"\n",
      "[1] \"0.09099230808282256222074835250168689526617527008056640625\"\n",
      "[1] \"my_intercept:\"\n"
     ]
    },
    {
     "data": {
      "text/html": [
       "350431975154361"
      ],
      "text/latex": [
       "350431975154361"
      ],
      "text/markdown": [
       "350431975154361"
      ],
      "text/plain": [
       "[1] 3.50432e+14"
      ]
     },
     "metadata": {},
     "output_type": "display_data"
    },
    {
     "name": "stdout",
     "output_type": "stream",
     "text": [
      "[1] \"round:\"\n"
     ]
    },
    {
     "data": {
      "text/html": [
       "350431975154361"
      ],
      "text/latex": [
       "350431975154361"
      ],
      "text/markdown": [
       "350431975154361"
      ],
      "text/plain": [
       "[1] 3.50432e+14"
      ]
     },
     "metadata": {},
     "output_type": "display_data"
    },
    {
     "name": "stdout",
     "output_type": "stream",
     "text": [
      "[1] \"comprassion with lm function:\"\n"
     ]
    },
    {
     "data": {
      "text/html": [
       "<strong>(Intercept):</strong> FALSE"
      ],
      "text/latex": [
       "\\textbf{(Intercept):} FALSE"
      ],
      "text/markdown": [
       "**(Intercept):** FALSE"
      ],
      "text/plain": [
       "(Intercept) \n",
       "      FALSE "
      ]
     },
     "metadata": {},
     "output_type": "display_data"
    },
    {
     "name": "stdout",
     "output_type": "stream",
     "text": [
      "[1] \"z użyciem biblioteki Rmpfr:\"\n"
     ]
    },
    {
     "data": {
      "text/plain": [
       "1 'mpfr' number of precision  128   bits \n",
       "[1] 350431975154360.875"
      ]
     },
     "metadata": {},
     "output_type": "display_data"
    },
    {
     "data": {
      "text/plain": [
       "1 'mpfr' number of precision  333   bits \n",
       "[1] 350431975154360.875"
      ]
     },
     "metadata": {},
     "output_type": "display_data"
    },
    {
     "name": "stdout",
     "output_type": "stream",
     "text": [
      "[1] \"float\"\n"
     ]
    },
    {
     "data": {
      "text/plain": [
       "# A float32 vector: 1\n",
       "[1] 3.5043e+14"
      ]
     },
     "metadata": {},
     "output_type": "display_data"
    },
    {
     "name": "stdout",
     "output_type": "stream",
     "text": [
      "[1] \"z użyciem funkcji sprintf:\"\n",
      "[1] \"350431975154360.875\"\n"
     ]
    }
   ],
   "source": [
    "library(Rmpfr)\n",
    "library(float)\n",
    "\n",
    "genomes=read.csv(\"genomes.csv\")\n",
    "z = lm(genomes$GC ~ genomes$size)\n",
    "#head(genomes)\n",
    "y1=log(genomes$GC)\n",
    "x1=genomes$size\n",
    "s = function(x, y){\n",
    "  mean_x = mean(x)\n",
    "  mean_y = mean(y)\n",
    "  nom = sum((x - mean_x)*(y-mean_y))\n",
    "  denom = sum((x - mean_x)^2)\n",
    "  m = nom / denom\n",
    "  return(m)\n",
    "}\n",
    "s2 = function(x, y){\n",
    "  return(cov(x, y)/var(x))\n",
    "}\n",
    "intercept = function(x, y, m){\n",
    "  b = mean(y) - (m * mean(x))\n",
    "  return(b)\n",
    "}\n",
    "R2 = function(x,y){\n",
    "  x = cor(x,y)^2\n",
    "  return(x)\n",
    "  \n",
    "}\n",
    "convert = function(z){\n",
    "    c = z*(10**14)\n",
    "    return(c)\n",
    "}\n",
    "\n",
    "x = convert(x1)\n",
    "y = convert(y1)\n",
    "\n",
    "\n",
    "my_size = s(x,y)\n",
    "my_intercept = intercept(x,y, my_size)\n",
    "my_R2 = R2(x,y)\n",
    "print('my_size:')\n",
    "my_size\n",
    "print('round:')\n",
    "round(as.numeric(my_size))\n",
    "print('przyrównanie do wbudowanej funkcji lm:')\n",
    "my_size == z$coef[2]\n",
    "print('z użyciem biblioteki Rmpfr:')\n",
    "mpfr(my_size, 128)\n",
    "mpfr(my_size, 333)\n",
    "print('float')\n",
    "fl(my_size)\n",
    "print('z użyciem funkcji sprintf:')       \n",
    "print(sprintf(\"%.56f\", my_size))\n",
    "\n",
    "print('my_intercept:')\n",
    "my_intercept\n",
    "print('round:')\n",
    "round(as.numeric(my_intercept))\n",
    "print('comprassion with lm function:')\n",
    "my_intercept == z$coef[1]\n",
    "print('z użyciem biblioteki Rmpfr:')\n",
    "mpfr(my_intercept, 128)\n",
    "mpfr(my_intercept, 333)\n",
    "print('float')\n",
    "fl(my_intercept)\n",
    "print('z użyciem funkcji sprintf:')\n",
    "print(sprintf(\"%.3f\", my_intercept))\n",
    "\n",
    "#print('my_r2:')\n",
    "#my_R2"
   ]
  },
  {
   "cell_type": "markdown",
   "metadata": {},
   "source": [
    "Wartość estymatora największa jest dla funkcji mpfr z ustawioną precyzją na 333  oraz funkcji sprintf dla b0:0.09099230808282253446517273687277338467538356781005859375 a dla b1 wartość estymatora jest największa dla funkcji mpfr oraz sprintf: 350431975154360.875\n",
    "\n",
    "Wartość estymatora najmniejsza jest dla funkcji float dla b0 wynosi: 0.090992 oraz dla b1:3.5043e+14\n",
    "\n",
    "Różnice pomiędzy wartościami: polegają na zaokrąglaniu liczb,użyte funkcje są bardziej precyzyjne."
   ]
  },
  {
   "cell_type": "markdown",
   "metadata": {},
   "source": [
    "Liniowa regresja z użyciem funkcji lm:"
   ]
  },
  {
   "cell_type": "code",
   "execution_count": 9,
   "metadata": {},
   "outputs": [
    {
     "data": {
      "text/html": [
       "<table>\n",
       "<thead><tr><th scope=col>organism</th><th scope=col>group</th><th scope=col>size</th><th scope=col>GC</th><th scope=col>habitat</th><th scope=col>temp.group</th><th scope=col>temperature</th></tr></thead>\n",
       "<tbody>\n",
       "\t<tr><td>Acaryochloris marina MBIC11017           </td><td>Cyanobacteria                            </td><td>8.36                                     </td><td>47.0                                     </td><td>Aquatic                                  </td><td>Mesophilic                               </td><td>NA                                       </td></tr>\n",
       "\t<tr><td>Acholeplasma laidlawii PG-8A             </td><td>Firmicutes                               </td><td>1.50                                     </td><td>31.9                                     </td><td>Specialized                              </td><td>Mesophilic                               </td><td>37                                       </td></tr>\n",
       "\t<tr><td>Acidiphilium cryptum JF-5                </td><td>Alphaproteobacteria                      </td><td>3.97                                     </td><td>67.1                                     </td><td>Multiple                                 </td><td>Mesophilic                               </td><td>35                                       </td></tr>\n",
       "\t<tr><td>Acidithiobacillus ferrooxidans ATCC 53993</td><td>Other Bacteria                           </td><td>2.90                                     </td><td>58.9                                     </td><td>Specialized                              </td><td>Mesophilic                               </td><td>NA                                       </td></tr>\n",
       "\t<tr><td>Acidothermus cellulolyticus 11B          </td><td>Actinobacteria                           </td><td>2.40                                     </td><td>66.9                                     </td><td>Aquatic                                  </td><td>Thermophilic                             </td><td>58                                       </td></tr>\n",
       "\t<tr><td>Acidovorax avenae subsp. citrulli AAC00-1</td><td>Betaproteobacteria                       </td><td>5.40                                     </td><td>68.5                                     </td><td>Multiple                                 </td><td>Mesophilic                               </td><td>NA                                       </td></tr>\n",
       "</tbody>\n",
       "</table>\n"
      ],
      "text/latex": [
       "\\begin{tabular}{r|lllllll}\n",
       " organism & group & size & GC & habitat & temp.group & temperature\\\\\n",
       "\\hline\n",
       "\t Acaryochloris marina MBIC11017            & Cyanobacteria                             & 8.36                                      & 47.0                                      & Aquatic                                   & Mesophilic                                & NA                                       \\\\\n",
       "\t Acholeplasma laidlawii PG-8A              & Firmicutes                                & 1.50                                      & 31.9                                      & Specialized                               & Mesophilic                                & 37                                       \\\\\n",
       "\t Acidiphilium cryptum JF-5                 & Alphaproteobacteria                       & 3.97                                      & 67.1                                      & Multiple                                  & Mesophilic                                & 35                                       \\\\\n",
       "\t Acidithiobacillus ferrooxidans ATCC 53993 & Other Bacteria                            & 2.90                                      & 58.9                                      & Specialized                               & Mesophilic                                & NA                                       \\\\\n",
       "\t Acidothermus cellulolyticus 11B           & Actinobacteria                            & 2.40                                      & 66.9                                      & Aquatic                                   & Thermophilic                              & 58                                       \\\\\n",
       "\t Acidovorax avenae subsp. citrulli AAC00-1 & Betaproteobacteria                        & 5.40                                      & 68.5                                      & Multiple                                  & Mesophilic                                & NA                                       \\\\\n",
       "\\end{tabular}\n"
      ],
      "text/markdown": [
       "\n",
       "| organism | group | size | GC | habitat | temp.group | temperature |\n",
       "|---|---|---|---|---|---|---|\n",
       "| Acaryochloris marina MBIC11017            | Cyanobacteria                             | 8.36                                      | 47.0                                      | Aquatic                                   | Mesophilic                                | NA                                        |\n",
       "| Acholeplasma laidlawii PG-8A              | Firmicutes                                | 1.50                                      | 31.9                                      | Specialized                               | Mesophilic                                | 37                                        |\n",
       "| Acidiphilium cryptum JF-5                 | Alphaproteobacteria                       | 3.97                                      | 67.1                                      | Multiple                                  | Mesophilic                                | 35                                        |\n",
       "| Acidithiobacillus ferrooxidans ATCC 53993 | Other Bacteria                            | 2.90                                      | 58.9                                      | Specialized                               | Mesophilic                                | NA                                        |\n",
       "| Acidothermus cellulolyticus 11B           | Actinobacteria                            | 2.40                                      | 66.9                                      | Aquatic                                   | Thermophilic                              | 58                                        |\n",
       "| Acidovorax avenae subsp. citrulli AAC00-1 | Betaproteobacteria                        | 5.40                                      | 68.5                                      | Multiple                                  | Mesophilic                                | NA                                        |\n",
       "\n"
      ],
      "text/plain": [
       "  organism                                  group               size GC  \n",
       "1 Acaryochloris marina MBIC11017            Cyanobacteria       8.36 47.0\n",
       "2 Acholeplasma laidlawii PG-8A              Firmicutes          1.50 31.9\n",
       "3 Acidiphilium cryptum JF-5                 Alphaproteobacteria 3.97 67.1\n",
       "4 Acidithiobacillus ferrooxidans ATCC 53993 Other Bacteria      2.90 58.9\n",
       "5 Acidothermus cellulolyticus 11B           Actinobacteria      2.40 66.9\n",
       "6 Acidovorax avenae subsp. citrulli AAC00-1 Betaproteobacteria  5.40 68.5\n",
       "  habitat     temp.group   temperature\n",
       "1 Aquatic     Mesophilic   NA         \n",
       "2 Specialized Mesophilic   37         \n",
       "3 Multiple    Mesophilic   35         \n",
       "4 Specialized Mesophilic   NA         \n",
       "5 Aquatic     Thermophilic 58         \n",
       "6 Multiple    Mesophilic   NA         "
      ]
     },
     "metadata": {},
     "output_type": "display_data"
    },
    {
     "data": {
      "text/plain": [
       "\n",
       "Call:\n",
       "lm(formula = df$GC ~ df$size)\n",
       "\n",
       "Residuals:\n",
       "    Min      1Q  Median      3Q     Max \n",
       "-28.300  -8.217  -1.238   8.490  28.014 \n",
       "\n",
       "Coefficients:\n",
       "            Estimate Std. Error t value Pr(>|t|)    \n",
       "(Intercept)  32.6825     0.8235   39.69   <2e-16 ***\n",
       "df$size       4.2529     0.2041   20.84   <2e-16 ***\n",
       "---\n",
       "Signif. codes:  0 '***' 0.001 '**' 0.01 '*' 0.05 '.' 0.1 ' ' 1\n",
       "\n",
       "Residual standard error: 10.38 on 722 degrees of freedom\n",
       "Multiple R-squared:  0.3755,\tAdjusted R-squared:  0.3746 \n",
       "F-statistic: 434.1 on 1 and 722 DF,  p-value: < 2.2e-16\n"
      ]
     },
     "metadata": {},
     "output_type": "display_data"
    }
   ],
   "source": [
    "df = read.csv('genomes.csv')\n",
    "head(df)\n",
    "z = lm(df$GC ~ df$size)\n",
    "summary(z)"
   ]
  },
  {
   "cell_type": "code",
   "execution_count": null,
   "metadata": {},
   "outputs": [],
   "source": []
  }
 ],
 "metadata": {
  "kernelspec": {
   "display_name": "R",
   "language": "R",
   "name": "ir"
  },
  "language_info": {
   "codemirror_mode": "r",
   "file_extension": ".r",
   "mimetype": "text/x-r-source",
   "name": "R",
   "pygments_lexer": "r",
   "version": "3.6.1"
  }
 },
 "nbformat": 4,
 "nbformat_minor": 4
}
