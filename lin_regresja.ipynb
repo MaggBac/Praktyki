{
 "cells": [
  {
   "cell_type": "code",
   "execution_count": 7,
   "metadata": {},
   "outputs": [
    {
     "data": {
      "text/html": [
       "<table>\n",
       "<thead><tr><th scope=col>organism</th><th scope=col>group</th><th scope=col>size</th><th scope=col>GC</th><th scope=col>habitat</th><th scope=col>temp.group</th><th scope=col>temperature</th></tr></thead>\n",
       "<tbody>\n",
       "\t<tr><td>Acaryochloris marina MBIC11017           </td><td>Cyanobacteria                            </td><td>8.36                                     </td><td>47.0                                     </td><td>Aquatic                                  </td><td>Mesophilic                               </td><td>NA                                       </td></tr>\n",
       "\t<tr><td>Acholeplasma laidlawii PG-8A             </td><td>Firmicutes                               </td><td>1.50                                     </td><td>31.9                                     </td><td>Specialized                              </td><td>Mesophilic                               </td><td>37                                       </td></tr>\n",
       "\t<tr><td>Acidiphilium cryptum JF-5                </td><td>Alphaproteobacteria                      </td><td>3.97                                     </td><td>67.1                                     </td><td>Multiple                                 </td><td>Mesophilic                               </td><td>35                                       </td></tr>\n",
       "\t<tr><td>Acidithiobacillus ferrooxidans ATCC 53993</td><td>Other Bacteria                           </td><td>2.90                                     </td><td>58.9                                     </td><td>Specialized                              </td><td>Mesophilic                               </td><td>NA                                       </td></tr>\n",
       "\t<tr><td>Acidothermus cellulolyticus 11B          </td><td>Actinobacteria                           </td><td>2.40                                     </td><td>66.9                                     </td><td>Aquatic                                  </td><td>Thermophilic                             </td><td>58                                       </td></tr>\n",
       "\t<tr><td>Acidovorax avenae subsp. citrulli AAC00-1</td><td>Betaproteobacteria                       </td><td>5.40                                     </td><td>68.5                                     </td><td>Multiple                                 </td><td>Mesophilic                               </td><td>NA                                       </td></tr>\n",
       "</tbody>\n",
       "</table>\n"
      ],
      "text/latex": [
       "\\begin{tabular}{r|lllllll}\n",
       " organism & group & size & GC & habitat & temp.group & temperature\\\\\n",
       "\\hline\n",
       "\t Acaryochloris marina MBIC11017            & Cyanobacteria                             & 8.36                                      & 47.0                                      & Aquatic                                   & Mesophilic                                & NA                                       \\\\\n",
       "\t Acholeplasma laidlawii PG-8A              & Firmicutes                                & 1.50                                      & 31.9                                      & Specialized                               & Mesophilic                                & 37                                       \\\\\n",
       "\t Acidiphilium cryptum JF-5                 & Alphaproteobacteria                       & 3.97                                      & 67.1                                      & Multiple                                  & Mesophilic                                & 35                                       \\\\\n",
       "\t Acidithiobacillus ferrooxidans ATCC 53993 & Other Bacteria                            & 2.90                                      & 58.9                                      & Specialized                               & Mesophilic                                & NA                                       \\\\\n",
       "\t Acidothermus cellulolyticus 11B           & Actinobacteria                            & 2.40                                      & 66.9                                      & Aquatic                                   & Thermophilic                              & 58                                       \\\\\n",
       "\t Acidovorax avenae subsp. citrulli AAC00-1 & Betaproteobacteria                        & 5.40                                      & 68.5                                      & Multiple                                  & Mesophilic                                & NA                                       \\\\\n",
       "\\end{tabular}\n"
      ],
      "text/markdown": [
       "\n",
       "| organism | group | size | GC | habitat | temp.group | temperature |\n",
       "|---|---|---|---|---|---|---|\n",
       "| Acaryochloris marina MBIC11017            | Cyanobacteria                             | 8.36                                      | 47.0                                      | Aquatic                                   | Mesophilic                                | NA                                        |\n",
       "| Acholeplasma laidlawii PG-8A              | Firmicutes                                | 1.50                                      | 31.9                                      | Specialized                               | Mesophilic                                | 37                                        |\n",
       "| Acidiphilium cryptum JF-5                 | Alphaproteobacteria                       | 3.97                                      | 67.1                                      | Multiple                                  | Mesophilic                                | 35                                        |\n",
       "| Acidithiobacillus ferrooxidans ATCC 53993 | Other Bacteria                            | 2.90                                      | 58.9                                      | Specialized                               | Mesophilic                                | NA                                        |\n",
       "| Acidothermus cellulolyticus 11B           | Actinobacteria                            | 2.40                                      | 66.9                                      | Aquatic                                   | Thermophilic                              | 58                                        |\n",
       "| Acidovorax avenae subsp. citrulli AAC00-1 | Betaproteobacteria                        | 5.40                                      | 68.5                                      | Multiple                                  | Mesophilic                                | NA                                        |\n",
       "\n"
      ],
      "text/plain": [
       "  organism                                  group               size GC  \n",
       "1 Acaryochloris marina MBIC11017            Cyanobacteria       8.36 47.0\n",
       "2 Acholeplasma laidlawii PG-8A              Firmicutes          1.50 31.9\n",
       "3 Acidiphilium cryptum JF-5                 Alphaproteobacteria 3.97 67.1\n",
       "4 Acidithiobacillus ferrooxidans ATCC 53993 Other Bacteria      2.90 58.9\n",
       "5 Acidothermus cellulolyticus 11B           Actinobacteria      2.40 66.9\n",
       "6 Acidovorax avenae subsp. citrulli AAC00-1 Betaproteobacteria  5.40 68.5\n",
       "  habitat     temp.group   temperature\n",
       "1 Aquatic     Mesophilic   NA         \n",
       "2 Specialized Mesophilic   37         \n",
       "3 Multiple    Mesophilic   35         \n",
       "4 Specialized Mesophilic   NA         \n",
       "5 Aquatic     Thermophilic 58         \n",
       "6 Multiple    Mesophilic   NA         "
      ]
     },
     "metadata": {},
     "output_type": "display_data"
    },
    {
     "name": "stdout",
     "output_type": "stream",
     "text": [
      "[1] \"my_size:\"\n"
     ]
    },
    {
     "data": {
      "text/html": [
       "4.25288067435268"
      ],
      "text/latex": [
       "4.25288067435268"
      ],
      "text/markdown": [
       "4.25288067435268"
      ],
      "text/plain": [
       "[1] 4.252881"
      ]
     },
     "metadata": {},
     "output_type": "display_data"
    },
    {
     "name": "stdout",
     "output_type": "stream",
     "text": [
      "[1] \"my_intercept:\"\n"
     ]
    },
    {
     "data": {
      "text/html": [
       "32.6824697298858"
      ],
      "text/latex": [
       "32.6824697298858"
      ],
      "text/markdown": [
       "32.6824697298858"
      ],
      "text/plain": [
       "[1] 32.68247"
      ]
     },
     "metadata": {},
     "output_type": "display_data"
    },
    {
     "name": "stdout",
     "output_type": "stream",
     "text": [
      "[1] \"my_r2:\"\n"
     ]
    },
    {
     "data": {
      "text/html": [
       "0.375482150501539"
      ],
      "text/latex": [
       "0.375482150501539"
      ],
      "text/markdown": [
       "0.375482150501539"
      ],
      "text/plain": [
       "[1] 0.3754822"
      ]
     },
     "metadata": {},
     "output_type": "display_data"
    }
   ],
   "source": [
    "genomes=read.csv(\"genomes.csv\")\n",
    "head(genomes)\n",
    "y=genomes$GC\n",
    "x=genomes$size\n",
    "s = function(x, y){\n",
    "  mean_x = mean(x)\n",
    "  mean_y = mean(y)\n",
    "  nom = sum((x - mean_x)*(y-mean_y))\n",
    "  denom = sum((x - mean_x)^2)\n",
    "  m = nom / denom\n",
    "  return(m)\n",
    "}\n",
    "s2 = function(x, y){\n",
    "  return(cov(x, y)/var(x))\n",
    "}\n",
    "intercept = function(x, y, m){\n",
    "  b = mean(y) - (m * mean(x))\n",
    "  return(b)\n",
    "}\n",
    "R2 = function(x,y){\n",
    "  x = cor(x,y)^2\n",
    "  return(x)\n",
    "  \n",
    "}\n",
    "my_size = s(x,y)\n",
    "my_intercept = intercept(x,y, my_size)\n",
    "my_R2 = R2(x,y)\n",
    "print('my_size:')\n",
    "my_size\n",
    "print('my_intercept:')\n",
    "my_intercept\n",
    "print('my_r2:')\n",
    "my_R2"
   ]
  },
  {
   "cell_type": "code",
   "execution_count": 9,
   "metadata": {},
   "outputs": [
    {
     "data": {
      "text/html": [
       "<table>\n",
       "<thead><tr><th scope=col>organism</th><th scope=col>group</th><th scope=col>size</th><th scope=col>GC</th><th scope=col>habitat</th><th scope=col>temp.group</th><th scope=col>temperature</th></tr></thead>\n",
       "<tbody>\n",
       "\t<tr><td>Acaryochloris marina MBIC11017           </td><td>Cyanobacteria                            </td><td>8.36                                     </td><td>47.0                                     </td><td>Aquatic                                  </td><td>Mesophilic                               </td><td>NA                                       </td></tr>\n",
       "\t<tr><td>Acholeplasma laidlawii PG-8A             </td><td>Firmicutes                               </td><td>1.50                                     </td><td>31.9                                     </td><td>Specialized                              </td><td>Mesophilic                               </td><td>37                                       </td></tr>\n",
       "\t<tr><td>Acidiphilium cryptum JF-5                </td><td>Alphaproteobacteria                      </td><td>3.97                                     </td><td>67.1                                     </td><td>Multiple                                 </td><td>Mesophilic                               </td><td>35                                       </td></tr>\n",
       "\t<tr><td>Acidithiobacillus ferrooxidans ATCC 53993</td><td>Other Bacteria                           </td><td>2.90                                     </td><td>58.9                                     </td><td>Specialized                              </td><td>Mesophilic                               </td><td>NA                                       </td></tr>\n",
       "\t<tr><td>Acidothermus cellulolyticus 11B          </td><td>Actinobacteria                           </td><td>2.40                                     </td><td>66.9                                     </td><td>Aquatic                                  </td><td>Thermophilic                             </td><td>58                                       </td></tr>\n",
       "\t<tr><td>Acidovorax avenae subsp. citrulli AAC00-1</td><td>Betaproteobacteria                       </td><td>5.40                                     </td><td>68.5                                     </td><td>Multiple                                 </td><td>Mesophilic                               </td><td>NA                                       </td></tr>\n",
       "</tbody>\n",
       "</table>\n"
      ],
      "text/latex": [
       "\\begin{tabular}{r|lllllll}\n",
       " organism & group & size & GC & habitat & temp.group & temperature\\\\\n",
       "\\hline\n",
       "\t Acaryochloris marina MBIC11017            & Cyanobacteria                             & 8.36                                      & 47.0                                      & Aquatic                                   & Mesophilic                                & NA                                       \\\\\n",
       "\t Acholeplasma laidlawii PG-8A              & Firmicutes                                & 1.50                                      & 31.9                                      & Specialized                               & Mesophilic                                & 37                                       \\\\\n",
       "\t Acidiphilium cryptum JF-5                 & Alphaproteobacteria                       & 3.97                                      & 67.1                                      & Multiple                                  & Mesophilic                                & 35                                       \\\\\n",
       "\t Acidithiobacillus ferrooxidans ATCC 53993 & Other Bacteria                            & 2.90                                      & 58.9                                      & Specialized                               & Mesophilic                                & NA                                       \\\\\n",
       "\t Acidothermus cellulolyticus 11B           & Actinobacteria                            & 2.40                                      & 66.9                                      & Aquatic                                   & Thermophilic                              & 58                                       \\\\\n",
       "\t Acidovorax avenae subsp. citrulli AAC00-1 & Betaproteobacteria                        & 5.40                                      & 68.5                                      & Multiple                                  & Mesophilic                                & NA                                       \\\\\n",
       "\\end{tabular}\n"
      ],
      "text/markdown": [
       "\n",
       "| organism | group | size | GC | habitat | temp.group | temperature |\n",
       "|---|---|---|---|---|---|---|\n",
       "| Acaryochloris marina MBIC11017            | Cyanobacteria                             | 8.36                                      | 47.0                                      | Aquatic                                   | Mesophilic                                | NA                                        |\n",
       "| Acholeplasma laidlawii PG-8A              | Firmicutes                                | 1.50                                      | 31.9                                      | Specialized                               | Mesophilic                                | 37                                        |\n",
       "| Acidiphilium cryptum JF-5                 | Alphaproteobacteria                       | 3.97                                      | 67.1                                      | Multiple                                  | Mesophilic                                | 35                                        |\n",
       "| Acidithiobacillus ferrooxidans ATCC 53993 | Other Bacteria                            | 2.90                                      | 58.9                                      | Specialized                               | Mesophilic                                | NA                                        |\n",
       "| Acidothermus cellulolyticus 11B           | Actinobacteria                            | 2.40                                      | 66.9                                      | Aquatic                                   | Thermophilic                              | 58                                        |\n",
       "| Acidovorax avenae subsp. citrulli AAC00-1 | Betaproteobacteria                        | 5.40                                      | 68.5                                      | Multiple                                  | Mesophilic                                | NA                                        |\n",
       "\n"
      ],
      "text/plain": [
       "  organism                                  group               size GC  \n",
       "1 Acaryochloris marina MBIC11017            Cyanobacteria       8.36 47.0\n",
       "2 Acholeplasma laidlawii PG-8A              Firmicutes          1.50 31.9\n",
       "3 Acidiphilium cryptum JF-5                 Alphaproteobacteria 3.97 67.1\n",
       "4 Acidithiobacillus ferrooxidans ATCC 53993 Other Bacteria      2.90 58.9\n",
       "5 Acidothermus cellulolyticus 11B           Actinobacteria      2.40 66.9\n",
       "6 Acidovorax avenae subsp. citrulli AAC00-1 Betaproteobacteria  5.40 68.5\n",
       "  habitat     temp.group   temperature\n",
       "1 Aquatic     Mesophilic   NA         \n",
       "2 Specialized Mesophilic   37         \n",
       "3 Multiple    Mesophilic   35         \n",
       "4 Specialized Mesophilic   NA         \n",
       "5 Aquatic     Thermophilic 58         \n",
       "6 Multiple    Mesophilic   NA         "
      ]
     },
     "metadata": {},
     "output_type": "display_data"
    },
    {
     "data": {
      "text/plain": [
       "\n",
       "Call:\n",
       "lm(formula = df$GC ~ df$size)\n",
       "\n",
       "Residuals:\n",
       "    Min      1Q  Median      3Q     Max \n",
       "-28.300  -8.217  -1.238   8.490  28.014 \n",
       "\n",
       "Coefficients:\n",
       "            Estimate Std. Error t value Pr(>|t|)    \n",
       "(Intercept)  32.6825     0.8235   39.69   <2e-16 ***\n",
       "df$size       4.2529     0.2041   20.84   <2e-16 ***\n",
       "---\n",
       "Signif. codes:  0 '***' 0.001 '**' 0.01 '*' 0.05 '.' 0.1 ' ' 1\n",
       "\n",
       "Residual standard error: 10.38 on 722 degrees of freedom\n",
       "Multiple R-squared:  0.3755,\tAdjusted R-squared:  0.3746 \n",
       "F-statistic: 434.1 on 1 and 722 DF,  p-value: < 2.2e-16\n"
      ]
     },
     "metadata": {},
     "output_type": "display_data"
    }
   ],
   "source": [
    "df = read.csv('genomes.csv')\n",
    "head(df)\n",
    "z = lm(df$GC ~ df$size)\n",
    "summary(z)"
   ]
  },
  {
   "cell_type": "code",
   "execution_count": null,
   "metadata": {},
   "outputs": [],
   "source": []
  }
 ],
 "metadata": {
  "kernelspec": {
   "display_name": "R",
   "language": "R",
   "name": "ir"
  },
  "language_info": {
   "codemirror_mode": "r",
   "file_extension": ".r",
   "mimetype": "text/x-r-source",
   "name": "R",
   "pygments_lexer": "r",
   "version": "3.6.1"
  }
 },
 "nbformat": 4,
 "nbformat_minor": 4
}
