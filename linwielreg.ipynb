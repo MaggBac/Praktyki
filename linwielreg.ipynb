{
 "cells": [
  {
   "cell_type": "markdown",
   "metadata": {},
   "source": [
    "Regresja liniowa wieloczynnikowa"
   ]
  },
  {
   "cell_type": "code",
   "execution_count": 9,
   "metadata": {},
   "outputs": [
    {
     "name": "stdout",
     "output_type": "stream",
     "text": [
      "R^2: 0.6687594935356445\n"
     ]
    }
   ],
   "source": [
    "import numpy as np\n",
    "import copy\n",
    "import pandas as pd\n",
    "\n",
    "\n",
    "class MultipleLinearRegression():\n",
    "    def __init__(self):\n",
    "        self.coefficients = None\n",
    "        self.intercept = None\n",
    "\n",
    "    def fit(self, x, y):\n",
    "        # przygotowanie wartości x i y dla oszacowań współczynników\n",
    "        x = self._transform_x(x)\n",
    "        y = self._transform_y(y)\n",
    "\n",
    "        betas = self._estimate_coefficients(x, y)\n",
    "\n",
    "        self.intercept = betas[0]\n",
    "\n",
    "        self.coefficients = betas[1:]\n",
    "\n",
    "    def predict(self, x):\n",
    "        predictions = []\n",
    "        for index, row in x.iterrows():\n",
    "            values = row.values\n",
    "\n",
    "            pred = np.multiply(values, self.coefficients)\n",
    "            pred = sum(pred)\n",
    "            pred += self.intercept\n",
    "\n",
    "            predictions.append(pred)\n",
    "\n",
    "        return predictions\n",
    "\n",
    "    def r2_score(self, y_true, y_pred):\n",
    "        y_values = y_true.values\n",
    "        y_average = np.average(y_values)\n",
    "\n",
    "        residual_sum_of_squares = 0\n",
    "        total_sum_of_squares = 0\n",
    "\n",
    "        for i in range(len(y_values)):\n",
    "            residual_sum_of_squares += (y_values[i] - y_pred[i])**2\n",
    "            total_sum_of_squares += (y_values[i] - y_average)**2\n",
    "\n",
    "        return 1 - (residual_sum_of_squares/total_sum_of_squares)\n",
    "\n",
    "    def _transform_x(self, x):\n",
    "        x = copy.deepcopy(x)\n",
    "        x.insert(0, 'ones', np.ones( (x.shape[0], 1) ))\n",
    "        return x.values\n",
    "\n",
    "    def _transform_y(self, y):\n",
    "        y = copy.deepcopy(y)\n",
    "        return y.values\n",
    "\n",
    "    def _estimate_coefficients(self, x, y):\n",
    "        xT = x.transpose()\n",
    "\n",
    "        inversed = np.linalg.inv( xT.dot(x) )\n",
    "        coefficients = inversed.dot( xT ).dot(y)\n",
    "\n",
    "        return coefficients\n",
    "\n",
    "from load_dataset import x_train, x_test, y_train, y_test\n",
    "\n",
    "mlr = MultipleLinearRegression()\n",
    "\n",
    "mlr.fit(x_train, y_train)\n",
    "\n",
    "pred = mlr.predict(x_test)\n",
    "#print(f'predictions:{pred}')\n",
    "#coefficients=mlr._estimate_coefficients(x_test,y_test)\n",
    "#print(f'coefficients:{x_test},{y_test}')\n",
    "score = mlr.r2_score(y_test, pred)\n",
    "print(f'R^2: {score}')\n"
   ]
  }
 ],
 "metadata": {
  "kernelspec": {
   "display_name": "Python 3",
   "language": "python",
   "name": "python3"
  },
  "language_info": {
   "codemirror_mode": {
    "name": "ipython",
    "version": 3
   },
   "file_extension": ".py",
   "mimetype": "text/x-python",
   "name": "python",
   "nbconvert_exporter": "python",
   "pygments_lexer": "ipython3",
   "version": "3.8.4"
  }
 },
 "nbformat": 4,
 "nbformat_minor": 4
}
