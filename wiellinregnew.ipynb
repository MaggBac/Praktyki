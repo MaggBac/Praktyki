{
 "cells": [
  {
   "cell_type": "code",
   "execution_count": 43,
   "metadata": {},
   "outputs": [
    {
     "name": "stdout",
     "output_type": "stream",
     "text": [
      "                                      organism                group  size  \\\n",
      "0               Acaryochloris marina MBIC11017        Cyanobacteria  8.36   \n",
      "1                 Acholeplasma laidlawii PG-8A           Firmicutes  1.50   \n",
      "2                    Acidiphilium cryptum JF-5  Alphaproteobacteria  3.97   \n",
      "3    Acidithiobacillus ferrooxidans ATCC 53993       Other Bacteria  2.90   \n",
      "4              Acidothermus cellulolyticus 11B       Actinobacteria  2.40   \n",
      "..                                         ...                  ...   ...   \n",
      "719       Yersinia pseudotuberculosis IP 31758  Gammaproteobacteria  4.91   \n",
      "720       Yersinia pseudotuberculosis IP 32953  Gammaproteobacteria  4.80   \n",
      "721          Yersinia pseudotuberculosis PB1/+  Gammaproteobacteria  4.77   \n",
      "722          Yersinia pseudotuberculosis YPIII  Gammaproteobacteria  4.70   \n",
      "723       Zymomonas mobilis subsp. mobilis ZM4  Alphaproteobacteria  2.06   \n",
      "\n",
      "       GC      habitat    temp.group  temperature  \n",
      "0    47.0      Aquatic    Mesophilic          0.0  \n",
      "1    31.9  Specialized    Mesophilic         37.0  \n",
      "2    67.1     Multiple    Mesophilic         35.0  \n",
      "3    58.9  Specialized    Mesophilic          0.0  \n",
      "4    66.9      Aquatic  Thermophilic         58.0  \n",
      "..    ...          ...           ...          ...  \n",
      "719  47.2     Multiple    Mesophilic          0.0  \n",
      "720  47.6     Multiple    Mesophilic         29.0  \n",
      "721  47.5     Multiple    Mesophilic          0.0  \n",
      "722  47.5     Multiple    Mesophilic          0.0  \n",
      "723  46.3     Multiple    Mesophilic         27.5  \n",
      "\n",
      "[724 rows x 7 columns]\n",
      "30.912130673421952\n",
      "[4.36944796 0.063614  ]\n"
     ]
    }
   ],
   "source": [
    "import pandas as pd\n",
    "from sklearn.model_selection import train_test_split\n",
    "\n",
    "dt=pd.read_csv('genomes.csv')\n",
    "\n",
    "dt[\"temperature\"] = dt[\"temperature\"].fillna(0)\n",
    "print(dt)\n",
    "\n",
    "X=dt[['size','temperature']].values\n",
    "y=dt['GC'].values\n",
    "\n",
    "lm=LinearRegression()\n",
    "lm.fit(X,y)\n",
    "intercept = lm.intercept_\n",
    "coef = lm.coef_\n",
    "print(intercept)\n",
    "print(coef)\n",
    "\n",
    "            "
   ]
  },
  {
   "cell_type": "code",
   "execution_count": 41,
   "metadata": {},
   "outputs": [
    {
     "ename": "ValueError",
     "evalue": "shapes (3,3) and (724,) not aligned: 3 (dim 1) != 724 (dim 0)",
     "output_type": "error",
     "traceback": [
      "\u001b[1;31m---------------------------------------------------------------------------\u001b[0m",
      "\u001b[1;31mValueError\u001b[0m                                Traceback (most recent call last)",
      "\u001b[1;32m<ipython-input-41-c72703c9bef3>\u001b[0m in \u001b[0;36m<module>\u001b[1;34m\u001b[0m\n\u001b[0;32m     31\u001b[0m         \u001b[1;32mreturn\u001b[0m \u001b[0mnp\u001b[0m\u001b[1;33m.\u001b[0m\u001b[0mconcatenate\u001b[0m\u001b[1;33m(\u001b[0m\u001b[1;33m(\u001b[0m\u001b[0mones\u001b[0m\u001b[1;33m,\u001b[0m\u001b[0mx\u001b[0m\u001b[1;33m)\u001b[0m\u001b[1;33m,\u001b[0m\u001b[1;36m1\u001b[0m\u001b[1;33m)\u001b[0m\u001b[1;33m\u001b[0m\u001b[1;33m\u001b[0m\u001b[0m\n\u001b[0;32m     32\u001b[0m \u001b[0mmodel\u001b[0m \u001b[1;33m=\u001b[0m \u001b[0mMLR\u001b[0m\u001b[1;33m(\u001b[0m\u001b[1;33m)\u001b[0m\u001b[1;33m\u001b[0m\u001b[1;33m\u001b[0m\u001b[0m\n\u001b[1;32m---> 33\u001b[1;33m \u001b[0mmodel\u001b[0m\u001b[1;33m.\u001b[0m\u001b[0mfit\u001b[0m\u001b[1;33m(\u001b[0m\u001b[0mx\u001b[0m\u001b[1;33m,\u001b[0m\u001b[0my\u001b[0m\u001b[1;33m)\u001b[0m\u001b[1;33m\u001b[0m\u001b[1;33m\u001b[0m\u001b[0m\n\u001b[0m",
      "\u001b[1;32m<ipython-input-41-c72703c9bef3>\u001b[0m in \u001b[0;36mfit\u001b[1;34m(self, x, y)\u001b[0m\n\u001b[0;32m     15\u001b[0m         \u001b[1;32mif\u001b[0m \u001b[0mlen\u001b[0m \u001b[1;33m(\u001b[0m\u001b[0mx\u001b[0m\u001b[1;33m.\u001b[0m\u001b[0mshape\u001b[0m\u001b[1;33m)\u001b[0m \u001b[1;33m==\u001b[0m \u001b[1;36m1\u001b[0m\u001b[1;33m:\u001b[0m \u001b[0mx\u001b[0m \u001b[1;33m=\u001b[0m \u001b[0mself\u001b[0m\u001b[1;33m.\u001b[0m\u001b[0m_reshape_x\u001b[0m\u001b[1;33m(\u001b[0m\u001b[0mx\u001b[0m\u001b[1;33m)\u001b[0m\u001b[1;33m\u001b[0m\u001b[1;33m\u001b[0m\u001b[0m\n\u001b[0;32m     16\u001b[0m         \u001b[0mx\u001b[0m \u001b[1;33m=\u001b[0m \u001b[0mself\u001b[0m\u001b[1;33m.\u001b[0m\u001b[0m_concatenate_ones\u001b[0m\u001b[1;33m(\u001b[0m\u001b[0mx\u001b[0m\u001b[1;33m)\u001b[0m\u001b[1;33m\u001b[0m\u001b[1;33m\u001b[0m\u001b[0m\n\u001b[1;32m---> 17\u001b[1;33m         \u001b[0mself\u001b[0m\u001b[1;33m.\u001b[0m\u001b[0mcoefficients\u001b[0m \u001b[1;33m=\u001b[0m \u001b[0mnp\u001b[0m\u001b[1;33m.\u001b[0m\u001b[0mlinalg\u001b[0m\u001b[1;33m.\u001b[0m\u001b[0minv\u001b[0m\u001b[1;33m(\u001b[0m\u001b[0mx\u001b[0m\u001b[1;33m.\u001b[0m\u001b[0mtranspose\u001b[0m\u001b[1;33m(\u001b[0m\u001b[1;33m)\u001b[0m\u001b[1;33m.\u001b[0m\u001b[0mdot\u001b[0m\u001b[1;33m(\u001b[0m\u001b[0mx\u001b[0m\u001b[1;33m)\u001b[0m\u001b[1;33m)\u001b[0m\u001b[1;33m.\u001b[0m\u001b[0mdot\u001b[0m\u001b[1;33m(\u001b[0m\u001b[0my\u001b[0m\u001b[1;33m)\u001b[0m\u001b[1;33m\u001b[0m\u001b[1;33m\u001b[0m\u001b[0m\n\u001b[0m\u001b[0;32m     18\u001b[0m \u001b[1;33m\u001b[0m\u001b[0m\n\u001b[0;32m     19\u001b[0m     \u001b[1;32mdef\u001b[0m \u001b[0mpredict\u001b[0m\u001b[1;33m(\u001b[0m\u001b[0mself\u001b[0m\u001b[1;33m,\u001b[0m\u001b[0mentry\u001b[0m\u001b[1;33m)\u001b[0m\u001b[1;33m:\u001b[0m\u001b[1;33m\u001b[0m\u001b[1;33m\u001b[0m\u001b[0m\n",
      "\u001b[1;31mValueError\u001b[0m: shapes (3,3) and (724,) not aligned: 3 (dim 1) != 724 (dim 0)"
     ]
    }
   ],
   "source": [
    "import pandas as pd \n",
    "import numpy as np\n",
    "\n",
    "dt=pd.read_csv('genomes.csv')\n",
    "\n",
    "dt[\"temperature\"] = dt[\"temperature\"].fillna(0)\n",
    "\n",
    "x=dt[['size','temperature']].values\n",
    "y=dt['GC'].values\n",
    "\n",
    "class MLR(object):\n",
    "    def __init__(self):\n",
    "        self.coefficients = []\n",
    "    def fit (self,x, y):\n",
    "        if len (x.shape) == 1: x = self._reshape_x(x)\n",
    "        x = self._concatenate_ones(x)\n",
    "        self.coefficients = np.linalg.inv(x.transpose().dot(x)).dot(y)\n",
    "            \n",
    "    def predict(self,entry):\n",
    "        b0 = self.coefficients[0]\n",
    "        other_betas = self.coefficients[1:]\n",
    "        prediction = b0\n",
    "\n",
    "        for xi,bi in zip(entry, other_betas) : prediction += (b1 + xi)\n",
    "        return prediction\n",
    "    def _reshape_x(self,x):\n",
    "        return x.reshape(-1,1)\n",
    "    \n",
    "    def _concatenate_ones(self,x):\n",
    "        ones = np.ones(shape = x.shape[0]).reshape(-1,1)\n",
    "        return np.concatenate((ones,x),1)\n",
    "model = MLR()\n",
    "model.fit(x,y)\n"
   ]
  }
 ],
 "metadata": {
  "kernelspec": {
   "display_name": "Python 3",
   "language": "python",
   "name": "python3"
  },
  "language_info": {
   "codemirror_mode": {
    "name": "ipython",
    "version": 3
   },
   "file_extension": ".py",
   "mimetype": "text/x-python",
   "name": "python",
   "nbconvert_exporter": "python",
   "pygments_lexer": "ipython3",
   "version": "3.8.4"
  }
 },
 "nbformat": 4,
 "nbformat_minor": 4
}
